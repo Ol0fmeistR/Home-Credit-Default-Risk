{
  "cells": [
    {
      "metadata": {
        "trusted": true,
        "collapsed": true,
        "_uuid": "e05e3b1e25f9b3b8f85a119cb32e03fa8cd61953"
      },
      "cell_type": "code",
      "source": "import os\nimport numpy as np\nimport pandas as pd\nfrom tqdm import tqdm_notebook as tqdm\nfrom sklearn.externals import joblib\n%matplotlib inline\nimport seaborn as sns",
      "execution_count": null,
      "outputs": []
    },
    {
      "metadata": {
        "trusted": true,
        "_uuid": "006d86a49cf64813aee3441d6a6e41ce230e146f",
        "collapsed": true
      },
      "cell_type": "code",
      "source": "#pv = pd.read_csv(\"../input/previous_application.csv\")\ncc_bal = pd.read_csv(\"../input/credit_card_balance.csv\")\n#X = pd.read_csv(\"../input/application_train.csv\")\n#ip = pd.read_csv(\"../input/installments_payments.csv\")",
      "execution_count": null,
      "outputs": []
    },
    {
      "metadata": {
        "trusted": true,
        "_uuid": "09c8cc500f423af4c275931e0d476d61d17d1fb4",
        "collapsed": true
      },
      "cell_type": "code",
      "source": "",
      "execution_count": null,
      "outputs": []
    },
    {
      "metadata": {
        "trusted": true,
        "collapsed": true,
        "_uuid": "c7502c1763ffc6323cdac3afb305291ab5dc8ad0"
      },
      "cell_type": "code",
      "source": "X['CODE_GENDER'].replace('XNA',np.nan, inplace=True)\nX['DAYS_LAST_PHONE_CHANGE'].replace(0, np.nan, inplace=True)\nX['DAYS_EMPLOYED'].replace(365243,np.nan, inplace=True)\n",
      "execution_count": null,
      "outputs": []
    },
    {
      "metadata": {
        "trusted": true,
        "collapsed": true,
        "_uuid": "6557294a59600761816f30fb5b0efe108c8f068f"
      },
      "cell_type": "code",
      "source": "X['income_credit_percentage'] = X['AMT_INCOME_TOTAL'] / X['AMT_CREDIT']\nX['income_per_child'] = X['AMT_INCOME_TOTAL'] / (1 + X['CNT_CHILDREN'])\nX['phone_to_birth_ratio'] = X['DAYS_LAST_PHONE_CHANGE'] / X['DAYS_BIRTH']\nX['phone_to_employ_ratio'] = X['DAYS_LAST_PHONE_CHANGE'] / X['DAYS_EMPLOYED']\nX['car_to_birth_ratio'] = X['OWN_CAR_AGE'] / X['DAYS_BIRTH']\nX['car_to_employ_ratio'] = X['OWN_CAR_AGE'] / X['DAYS_EMPLOYED']\nX['long_employment'] = (X['DAYS_EMPLOYED'] < -2000).astype(int)\nX['retirement_age'] = (X['DAYS_BIRTH'] < -14000).astype(int)\n\nX['cnt_non_child'] = X['CNT_FAM_MEMBERS'] - X['CNT_CHILDREN']\nX['child_to_non_child_ratio'] = X['CNT_CHILDREN'] / X['cnt_non_child']\nX['income_per_non_child'] = X['AMT_INCOME_TOTAL'] / X['cnt_non_child']\nX['credit_per_person'] = X['AMT_CREDIT'] / X['CNT_FAM_MEMBERS']\nX['credit_per_child'] = X['AMT_CREDIT'] / (1 + X['CNT_CHILDREN'])\nX['credit_per_non_child'] = X['AMT_CREDIT'] / X['cnt_non_child']",
      "execution_count": null,
      "outputs": []
    },
    {
      "metadata": {
        "trusted": true,
        "_uuid": "b8f0a7660180631c6fdb14b2f36cdbd94d3208c6",
        "collapsed": true
      },
      "cell_type": "code",
      "source": "# External sources\nX['external_sources_weighted'] = X.EXT_SOURCE_1 * 2 + X.EXT_SOURCE_2 * 3 + X.EXT_SOURCE_3 * 4",
      "execution_count": null,
      "outputs": []
    },
    {
      "metadata": {
        "trusted": true,
        "collapsed": true,
        "_uuid": "bb49ee6049bd7c5ecf36725f1e5a4a1ccf406693"
      },
      "cell_type": "code",
      "source": "AGGREGATION_RECIPIES = [\n    (['CODE_GENDER', 'NAME_EDUCATION_TYPE'], [('AMT_ANNUITY', 'max'),\n                                              ('AMT_CREDIT', 'max'),\n                                              ('EXT_SOURCE_1', 'mean'),\n                                              ('EXT_SOURCE_2', 'mean'),\n                                              ('OWN_CAR_AGE', 'max'),\n                                              ('OWN_CAR_AGE', 'sum')]),\n    (['CODE_GENDER', 'ORGANIZATION_TYPE'], [('AMT_ANNUITY', 'mean'),\n                                            ('AMT_INCOME_TOTAL', 'mean'),\n                                            ('DAYS_REGISTRATION', 'mean'),\n                                            ('EXT_SOURCE_1', 'mean')]),\n    (['CODE_GENDER', 'REG_CITY_NOT_WORK_CITY'], [('AMT_ANNUITY', 'mean'),\n                                                 ('CNT_CHILDREN', 'mean'),\n                                                 ('DAYS_ID_PUBLISH', 'mean')]),\n    (['CODE_GENDER', 'NAME_EDUCATION_TYPE', 'OCCUPATION_TYPE', 'REG_CITY_NOT_WORK_CITY'], [('EXT_SOURCE_1', 'mean'),\n                                                                                           ('EXT_SOURCE_2', 'mean')]),\n    (['NAME_EDUCATION_TYPE', 'OCCUPATION_TYPE'], [('AMT_CREDIT', 'mean'),\n                                                  ('AMT_REQ_CREDIT_BUREAU_YEAR', 'mean'),\n                                                  ('APARTMENTS_AVG', 'mean'),\n                                                  ('BASEMENTAREA_AVG', 'mean'),\n                                                  ('EXT_SOURCE_1', 'mean'),\n                                                  ('EXT_SOURCE_2', 'mean'),\n                                                  ('EXT_SOURCE_3', 'mean'),\n                                                  ('NONLIVINGAREA_AVG', 'mean'),\n                                                  ('OWN_CAR_AGE', 'mean'),\n                                                  ('YEARS_BUILD_AVG', 'mean')]),\n    (['NAME_EDUCATION_TYPE', 'OCCUPATION_TYPE', 'REG_CITY_NOT_WORK_CITY'], [('ELEVATORS_AVG', 'mean'),\n                                                                            ('EXT_SOURCE_1', 'mean')]),\n    (['OCCUPATION_TYPE'], [('AMT_ANNUITY', 'mean'),\n                           ('CNT_CHILDREN', 'mean'),\n                           ('CNT_FAM_MEMBERS', 'mean'),\n                           ('DAYS_BIRTH', 'mean'),\n                           ('DAYS_EMPLOYED', 'mean'),\n                           ('DAYS_ID_PUBLISH', 'mean'),\n                           ('DAYS_REGISTRATION', 'mean'),\n                           ('EXT_SOURCE_1', 'mean'),\n                           ('EXT_SOURCE_2', 'mean'),\n                           ('EXT_SOURCE_3', 'mean')]),\n]",
      "execution_count": null,
      "outputs": []
    },
    {
      "metadata": {
        "trusted": true,
        "_uuid": "dbbc00ee78715e69f3f9ed3c205a0e0500444f8d",
        "collapsed": true
      },
      "cell_type": "code",
      "source": "groupby_aggregate_names = []\nfor groupby_cols, specs in AGGREGATION_RECIPIES:\n    group_object = X.groupby(groupby_cols)\n    for select, agg in specs:\n        groupby_aggregate_name = '{}_{}_{}'.format('_'.join(groupby_cols), agg, select)\n        X = X.merge(group_object[select]\n                              .agg(agg)\n                              .reset_index()\n                              .rename(index=str,\n                                      columns={select: groupby_aggregate_name})\n                              [groupby_cols + [groupby_aggregate_name]],\n                              on=groupby_cols,\n                              how='left')\n        groupby_aggregate_names.append(groupby_aggregate_name)",
      "execution_count": null,
      "outputs": []
    },
    {
      "metadata": {
        "trusted": true,
        "_uuid": "2e46f26d793882453be4c5ebae094f087e1af8d1",
        "collapsed": true
      },
      "cell_type": "code",
      "source": "X_agg = X[groupby_aggregate_names + ['SK_ID_CURR']]\nX_agg.head()",
      "execution_count": null,
      "outputs": []
    },
    {
      "metadata": {
        "trusted": true,
        "_uuid": "2395235885aaeb5289f171f5ccd50f60cb63009d",
        "collapsed": true
      },
      "cell_type": "code",
      "source": "pd.merge(X, X_agg, on=['SK_ID_CURR'])",
      "execution_count": null,
      "outputs": []
    },
    {
      "metadata": {
        "trusted": true,
        "_uuid": "9deafce00b25ff2286e1e17affd1a0f3f4f8d8e9",
        "collapsed": true
      },
      "cell_type": "code",
      "source": "#X = X.merge(right=X_agg.reset_index(), how='left', on='SK_ID_CURR')\nX.head()",
      "execution_count": null,
      "outputs": []
    },
    {
      "metadata": {
        "trusted": true,
        "_uuid": "898f15b0d4a8f25d844c2003dcde42ea56ea8523",
        "collapsed": true
      },
      "cell_type": "code",
      "source": "X.head()",
      "execution_count": null,
      "outputs": []
    },
    {
      "metadata": {
        "trusted": true,
        "_uuid": "d81cba5c3142ce4a1f69811872d62ab58e0c21d8",
        "collapsed": true
      },
      "cell_type": "code",
      "source": "X['CODE_GENDER_NAME_EDUCATION_TYPE_max_AMT_CREDIT_x']",
      "execution_count": null,
      "outputs": []
    },
    {
      "metadata": {
        "trusted": true,
        "_uuid": "605019e6f68cdd4b38c7890a389110f195b37a27",
        "collapsed": true
      },
      "cell_type": "code",
      "source": "diff_feature_names = []\nfor groupby_cols, specs in AGGREGATION_RECIPIES:\n    for select, agg in specs:\n        if agg in ['mean','median','max','min']:\n            groupby_aggregate_name = '{}_{}_{}'.format('_'.join(groupby_cols), agg, select)\n            diff_name = '{}_diff'.format(groupby_aggregate_name)\n            abs_diff_name = '{}_abs_diff'.format(groupby_aggregate_name)\n\n            X[diff_name] = X[select] - X[groupby_aggregate_name] \n            X[abs_diff_name] = np.abs(X[select] - X[groupby_aggregate_name]) \n\n            diff_feature_names.append(diff_name)\n            diff_feature_names.append(abs_diff_name)",
      "execution_count": null,
      "outputs": []
    },
    {
      "metadata": {
        "trusted": true,
        "_uuid": "42149911acfcd4c423ac066c81454105ba43e0be",
        "collapsed": true
      },
      "cell_type": "code",
      "source": "X_diff = X[diff_feature_names + ['SK_ID_CURR']]",
      "execution_count": null,
      "outputs": []
    },
    {
      "metadata": {
        "trusted": true,
        "collapsed": true,
        "_uuid": "66e56c18af678e7d9149237c472bdbb13f6b3ed4"
      },
      "cell_type": "code",
      "source": "X_diff.head()",
      "execution_count": null,
      "outputs": []
    },
    {
      "metadata": {
        "trusted": true,
        "_uuid": "15b4aa40ca0ca03a1d73960986232140570fe1e6",
        "collapsed": true
      },
      "cell_type": "code",
      "source": "pd.merge(X, X_diff, on=['SK_ID_CURR'])\nX.head()",
      "execution_count": null,
      "outputs": []
    },
    {
      "metadata": {
        "trusted": true,
        "_uuid": "2df5bc26c571aac8adcb81df2dcfdf51ca54c0c0",
        "collapsed": true
      },
      "cell_type": "code",
      "source": "X['CODE_GENDER_NAME_EDUCATION_TYPE_max_AMT_ANNUITY']",
      "execution_count": null,
      "outputs": []
    },
    {
      "metadata": {
        "trusted": true,
        "collapsed": true,
        "_uuid": "b6b7a5bf1a8b710fe5a9573f4c36414d8e7cedaa"
      },
      "cell_type": "code",
      "source": "",
      "execution_count": null,
      "outputs": []
    },
    {
      "metadata": {
        "trusted": true,
        "collapsed": true,
        "_uuid": "309d673480853dc9b131fcac65a606a28504bc0c"
      },
      "cell_type": "code",
      "source": "",
      "execution_count": null,
      "outputs": []
    },
    {
      "metadata": {
        "_uuid": "8f2839f25d086af736a60e9eeb907d3b93b6e0e5",
        "_cell_guid": "b1076dfc-b9ad-4769-8c92-a6c4dae69d19",
        "trusted": true,
        "collapsed": true
      },
      "cell_type": "code",
      "source": "import numpy as np\nimport pandas as pd\nimport matplotlib.pyplot as plt\nimport seaborn as sns\nimport warnings\ndef ignore_warn(*args, **kwargs):\n    pass\nwarnings.warn = ignore_warn()\n%matplotlib inline\nimport os\nimport gc\nfrom sklearn.preprocessing import LabelEncoder\nfrom sklearn.metrics import roc_auc_score\nfrom sklearn.metrics import roc_curve, auc\nfrom sklearn.model_selection import KFold, StratifiedKFold, train_test_split\nimport lightgbm as lgb\nimport xgboost as xgb\nfrom lightgbm import LGBMClassifier\nfrom xgboost import XGBClassifier\nfrom sklearn.decomposition import PCA\nfrom sklearn.preprocessing import StandardScaler\nfrom functools import partial",
      "execution_count": null,
      "outputs": []
    },
    {
      "metadata": {
        "trusted": true,
        "collapsed": true,
        "_uuid": "0112955a6b35a2f259ac3ce29b2857328e9eeae1"
      },
      "cell_type": "code",
      "source": "pd.set_option('display.max_columns', None) ",
      "execution_count": null,
      "outputs": []
    },
    {
      "metadata": {
        "trusted": true,
        "_uuid": "27a908f6b3c6e229aa8b1be1ed052690621c9dd2",
        "collapsed": true
      },
      "cell_type": "code",
      "source": "ps = pd.read_csv(\"../input/POS_CASH_balance.csv\")",
      "execution_count": null,
      "outputs": []
    },
    {
      "metadata": {
        "trusted": true,
        "_uuid": "7a66f9045640dc5ceea2b714e3ff620bfb212396",
        "collapsed": true
      },
      "cell_type": "code",
      "source": "ps.head()",
      "execution_count": null,
      "outputs": []
    },
    {
      "metadata": {
        "trusted": true,
        "_uuid": "358a5c0a7c6c4f2a4e3b63e9e19b9863c041ebb7",
        "collapsed": true
      },
      "cell_type": "code",
      "source": "print('Go to dummies')\nps = pd.concat([ps, pd.get_dummies(ps['NAME_CONTRACT_STATUS'])], axis=1)",
      "execution_count": null,
      "outputs": []
    },
    {
      "metadata": {
        "trusted": true,
        "_uuid": "33ca8d824680e3debb36a981d4dc54203a95f4f2",
        "collapsed": true
      },
      "cell_type": "code",
      "source": "features = pd.DataFrame({'SK_ID_CURR': ps['SK_ID_CURR'].unique()})\n\npos_cash_sorted = ps.sort_values(['SK_ID_CURR', 'MONTHS_BALANCE'])\ngroup_object = pos_cash_sorted.groupby('SK_ID_CURR')['CNT_INSTALMENT_FUTURE'].last().reset_index()\ngroup_object.rename(index=str,\n                    columns={'CNT_INSTALMENT_FUTURE': 'pos_cash_remaining_installments'},\n                    inplace=True)\n\nfeatures = features.merge(group_object, on=['SK_ID_CURR'], how='left')\nfeatures.head()",
      "execution_count": null,
      "outputs": []
    },
    {
      "metadata": {
        "trusted": true,
        "_uuid": "cc9931f15ecae968a2bba95e4c238199dfba3786",
        "collapsed": true
      },
      "cell_type": "code",
      "source": "ps['is_contract_status_completed'] = ps['NAME_CONTRACT_STATUS'] == 'Completed'\ngroup_object = ps.groupby(['SK_ID_CURR'])['is_contract_status_completed'].sum().reset_index()\ngroup_object.rename(index=str,\n                    columns={'is_contract_status_completed': 'pos_cash_completed_contracts'},\n                    inplace=True)\nfeatures = features.merge(group_object, on=['SK_ID_CURR'], how='left')\n\nps['pos_cash_paid_late'] = (ps['SK_DPD'] > 0).astype(int)\nps['pos_cash_paid_late_with_tolerance'] = (ps['SK_DPD_DEF'] > 0).astype(int)\ngroupby = ps.groupby(['SK_ID_CURR'])\nfeatures.head()",
      "execution_count": null,
      "outputs": []
    },
    {
      "metadata": {
        "trusted": true,
        "_uuid": "97897ba83477eb94e460487e1af436bdb735d7e7",
        "collapsed": true
      },
      "cell_type": "code",
      "source": " pd.merge(ps, features, on=['SK_ID_CURR'])",
      "execution_count": null,
      "outputs": []
    },
    {
      "metadata": {
        "trusted": true,
        "_uuid": "9f1591fd0cb19620a70142dd3c0c583b5eaca25a",
        "collapsed": true
      },
      "cell_type": "code",
      "source": "ps.head()",
      "execution_count": null,
      "outputs": []
    },
    {
      "metadata": {
        "trusted": true,
        "collapsed": true,
        "_uuid": "f4a26d46dcef59fd5cf79ea4019b5a67f45413aa"
      },
      "cell_type": "code",
      "source": "def  last_k_installment_features(gr, periods):\n    gr_ = gr.copy()\n    gr_.sort_values(['MONTHS_BALANCE'], ascending=False, inplace=True)\n\n    features = {}\n    for period in periods:\n        if period > 10e10:\n            period_name = 'all_installment_'\n            gr_period = gr_.copy()\n        else:\n            period_name = 'last_{}_'.format(period)\n            gr_period = gr_.iloc[:period]\n\n        features = add_features_in_group(features, gr_period, 'pos_cash_paid_late',\n                                             ['count', 'mean'],\n                                             period_name)\n        features = add_features_in_group(features, gr_period, 'pos_cash_paid_late_with_tolerance',\n                                             ['count', 'mean'],\n                                             period_name)\n        features = add_features_in_group(features, gr_period, 'SK_DPD',\n                                             ['sum', 'mean', 'max', 'min', 'median'],\n                                             period_name)\n        features = add_features_in_group(features, gr_period, 'SK_DPD_DEF',\n                                             ['sum', 'mean', 'max', 'min','median'],\n                                             period_name)\n    return features",
      "execution_count": null,
      "outputs": []
    },
    {
      "metadata": {
        "trusted": true,
        "collapsed": true,
        "_uuid": "aae14e96366a9e216558de50749f272d5dca361a"
      },
      "cell_type": "code",
      "source": "def parallel_apply(groups, func, index_name='Index', num_workers=1, chunk_size=100000):\n    n_chunks = np.ceil(1.0 * groups.ngroups / chunk_size)\n    indeces, features = [], []\n    for index_chunk, groups_chunk in chunk_groups(groups, chunk_size, total=n_chunks):\n        with mp.pool.Pool(num_workers) as executor:\n            features_chunk = executor.map(func, groups_chunk)\n        features.extend(features_chunk)\n        indeces.extend(index_chunk)\n\n    features = pd.DataFrame(features)\n    features.index = indeces\n    features.index.name = index_name\n    return features\n\ndef chunk_groups(groupby_object, chunk_size):\n    n_groups = groupby_object.ngroups\n    group_chunk, index_chunk = [], []\n    for i, (index, df) in enumerate(groupby_object):\n        group_chunk.append(df)\n        index_chunk.append(index)\n\n        if (i + 1) % chunk_size == 0 or i + 1 == n_groups:\n            group_chunk_, index_chunk_ = group_chunk.copy(), index_chunk.copy()\n            group_chunk, index_chunk = [], []\n            yield index_chunk_, group_chunk_",
      "execution_count": null,
      "outputs": []
    },
    {
      "metadata": {
        "trusted": true,
        "collapsed": true,
        "_uuid": "a3f21f4899c0ae1b3c4861fecc5ae04bcc6232b3"
      },
      "cell_type": "code",
      "source": "#from tqdm import tqdm_notebook as tqdm\nimport multiprocessing as mp\n\ndef add_features_in_group(features, gr_, feature_name, aggs, prefix):\n    for agg in aggs:\n        if agg == 'sum':\n            features['{}{}_sum'.format(prefix, feature_name)] = gr_[feature_name].sum()\n        elif agg == 'mean':\n            features['{}{}_mean'.format(prefix, feature_name)] = gr_[feature_name].mean()\n        elif agg == 'max':\n            features['{}{}_max'.format(prefix, feature_name)] = gr_[feature_name].max()\n        elif agg == 'min':\n            features['{}{}_min'.format(prefix, feature_name)] = gr_[feature_name].min()\n        elif agg == 'std':\n            features['{}{}_std'.format(prefix, feature_name)] = gr_[feature_name].std()\n        elif agg == 'count':\n            features['{}{}_count'.format(prefix, feature_name)] = gr_[feature_name].count()\n        elif agg == 'skew':\n            features['{}{}_skew'.format(prefix, feature_name)] = skew(gr_[feature_name])\n        elif agg == 'kurt':\n            features['{}{}_kurt'.format(prefix, feature_name)] = kurtosis(gr_[feature_name])\n        elif agg == 'iqr':\n            features['{}{}_iqr'.format(prefix, feature_name)] = iqr(gr_[feature_name])\n        elif agg == 'median':\n            features['{}{}_median'.format(prefix, feature_name)] = gr_[feature_name].median()\n\n    return features",
      "execution_count": null,
      "outputs": []
    },
    {
      "metadata": {
        "trusted": true,
        "_uuid": "14d60600a776753d90bab81a113a99e62060d1e6",
        "collapsed": true
      },
      "cell_type": "code",
      "source": "features = pd.DataFrame({'SK_ID_CURR': ps['SK_ID_CURR'].unique()})\nfunc = partial(last_k_installment_features, periods=[1, 10, 50, 10e16])\ng = parallel_apply(groupby, func, index_name='SK_ID_CURR', num_workers=10, chunk_size=10000).reset_index()\nfeatures = features.merge(g, on='SK_ID_CURR', how='left')\nfeatures.head()",
      "execution_count": null,
      "outputs": []
    },
    {
      "metadata": {
        "trusted": true,
        "_uuid": "8ffd79561fbaab8ef9cb9d2ffa70c3b664577bce",
        "collapsed": true
      },
      "cell_type": "code",
      "source": "ps = ps.merge(features, on='SK_ID_CURR', how='left')",
      "execution_count": null,
      "outputs": []
    },
    {
      "metadata": {
        "trusted": true,
        "_uuid": "bc64225f6901ca794d64e68ee3dc3072cc911413",
        "collapsed": true
      },
      "cell_type": "code",
      "source": "ps.head()",
      "execution_count": null,
      "outputs": []
    },
    {
      "metadata": {
        "trusted": true,
        "collapsed": true,
        "_uuid": "8b396a756af543e9e6a255f9ac91a0ff8f614960"
      },
      "cell_type": "code",
      "source": "def last_loan_features(gr):\n    gr_ = gr.copy()\n    gr_.sort_values(['MONTHS_BALANCE'], ascending=False, inplace=True)\n    last_installment_id = gr_['SK_ID_PREV'].iloc[0]\n    gr_ = gr_[gr_['SK_ID_PREV'] == last_installment_id]\n\n    features={}\n    features = add_features_in_group(features, gr_, 'pos_cash_paid_late',\n                                         ['count', 'sum', 'mean'],\n                                         'last_loan_')\n    features = add_features_in_group(features, gr_, 'pos_cash_paid_late_with_tolerance',\n                                         ['sum', 'mean'],\n                                         'last_loan_')\n    features = add_features_in_group(features, gr_, 'SK_DPD',\n                                         ['sum', 'mean', 'max', 'min', 'std'],\n                                         'last_loan_')\n    features = add_features_in_group(features, gr_, 'SK_DPD_DEF',\n                                         ['sum', 'mean', 'max', 'min', 'std'],\n                                         'last_loan_')\n    return features",
      "execution_count": null,
      "outputs": []
    },
    {
      "metadata": {
        "trusted": true,
        "_uuid": "05011e8cbde9d4d3243bb3152ed1b5f6396bdfb8",
        "collapsed": true
      },
      "cell_type": "code",
      "source": "features = pd.DataFrame({'SK_ID_CURR': ps['SK_ID_CURR'].unique()})\ng = parallel_apply(groupby, last_loan_features, index_name='SK_ID_CURR', num_workers=10, chunk_size=10000).reset_index()\nfeatures = features.merge(g, on='SK_ID_CURR', how='left')\nfeatures.head()",
      "execution_count": null,
      "outputs": []
    },
    {
      "metadata": {
        "trusted": true,
        "collapsed": true,
        "_uuid": "aa5f26644a7bf4dfd1a41380e39db6374a79b3d1"
      },
      "cell_type": "code",
      "source": "ps = ps.merge(features, on='SK_ID_CURR', how='left')",
      "execution_count": null,
      "outputs": []
    },
    {
      "metadata": {
        "trusted": true,
        "_uuid": "c531290089ab4c479fcc82b6bbcc1ad519c6972e",
        "collapsed": true
      },
      "cell_type": "code",
      "source": "ps.head()",
      "execution_count": null,
      "outputs": []
    },
    {
      "metadata": {
        "trusted": true,
        "collapsed": true,
        "_uuid": "b35ddc9640f30559aab95fe9fdaf24a7f7123fe4"
      },
      "cell_type": "code",
      "source": "def trend_in_last_k_installment_features(gr, periods):\n    gr_ = gr.copy()\n    gr_.sort_values(['MONTHS_BALANCE'], ascending=False, inplace=True)\n\n    features = {}\n    for period in periods:\n        gr_period = gr_.iloc[:period]\n\n        features = add_trend_feature(features, gr_period,\n                                         'SK_DPD', '{}_period_trend_'.format(period)\n                                         )\n        features = add_trend_feature(features, gr_period,\n                                         'SK_DPD_DEF', '{}_period_trend_'.format(period)\n                                         )\n    return features\n\ndef add_trend_feature(features, gr, feature_name, prefix):\n    y = gr[feature_name].values\n    try:\n        x = np.arange(0, len(y)).reshape(-1, 1)\n        lr = LinearRegression()\n        lr.fit(x, y)\n        trend = lr.coef_[0]\n    except:\n        trend = np.nan\n    features['{}{}'.format(prefix, feature_name)] = trend\n    return features",
      "execution_count": null,
      "outputs": []
    },
    {
      "metadata": {
        "trusted": true,
        "_uuid": "eb15ddeda6d48e9ea0362f96bb2fc152eac57eba",
        "collapsed": true
      },
      "cell_type": "code",
      "source": "features = pd.DataFrame({'SK_ID_CURR': ps['SK_ID_CURR'].unique()})\nfunc = partial(trend_in_last_k_installment_features, periods=[1,6,12,30,60])\ng = parallel_apply(groupby, func, index_name='SK_ID_CURR', num_workers=10, chunk_size=10000).reset_index()\nfeatures = features.merge(g, on='SK_ID_CURR', how='left')\nfeatures.head()",
      "execution_count": null,
      "outputs": []
    },
    {
      "metadata": {
        "trusted": true,
        "collapsed": true,
        "_uuid": "938ad62e0d3f70c121fa4b80f10f670bab3b6ffd"
      },
      "cell_type": "code",
      "source": "",
      "execution_count": null,
      "outputs": []
    },
    {
      "metadata": {
        "trusted": true,
        "collapsed": true,
        "_uuid": "975f4ebab3483ff59721dc57f617ccb87124c374"
      },
      "cell_type": "code",
      "source": "",
      "execution_count": null,
      "outputs": []
    },
    {
      "metadata": {
        "trusted": true,
        "_uuid": "479dcfc9ad3be2b07a33f6973ddf60f2fded56be",
        "collapsed": true
      },
      "cell_type": "code",
      "source": "grp = cc_bal.groupby(by = ['SK_ID_CURR'])['AMT_BALANCE'].max().reset_index().rename(index = str, columns ={ 'AMT_BALANCE' : 'MAX_BAL'})\ncc_bal = cc_bal.merge(grp, on = ['SK_ID_CURR'], how = 'left')\ndel grp \ngc.collect()\n\ngrp = cc_bal.groupby(by = ['SK_ID_CURR'])['AMT_BALANCE'].min().reset_index().rename(index = str, columns ={ 'AMT_BALANCE' : 'MIN_BAL'})\ncc_bal = cc_bal.merge(grp, on = ['SK_ID_CURR'], how = 'left')\ndel grp \ngc.collect()\n\ngrp = cc_bal.groupby(by = ['SK_ID_CURR'])['AMT_CREDIT_LIMIT_ACTUAL'].max().reset_index().rename(index = str, columns ={ 'AMT_CREDIT_LIMIT_ACTUAL' : 'MAX_LIM'})\ncc_bal = cc_bal.merge(grp, on = ['SK_ID_CURR'], how = 'left')\ndel grp \ngc.collect()\n\ngrp = cc_bal.groupby(by = ['SK_ID_CURR'])['AMT_CREDIT_LIMIT_ACTUAL'].min().reset_index().rename(index = str, columns ={ 'AMT_CREDIT_LIMIT_ACTUAL' : 'MIN_LIM'})\ncc_bal = cc_bal.merge(grp, on = ['SK_ID_CURR'], how = 'left')\ndel grp \ngc.collect()\n\ngrp = cc_bal.groupby(by = ['SK_ID_CURR'])['AMT_DRAWINGS_ATM_CURRENT'].max().reset_index().rename(index = str, columns ={ 'AMT_DRAWINGS_ATM_CURRENT' : 'MAX_DRW'})\ncc_bal = cc_bal.merge(grp, on = ['SK_ID_CURR'], how = 'left')\ndel grp \ngc.collect()\n\ngrp = cc_bal.groupby(by = ['SK_ID_CURR'])['AMT_DRAWINGS_ATM_CURRENT'].min().reset_index().rename(index = str, columns ={ 'AMT_DRAWINGS_ATM_CURRENT' : 'MIN_DRW'})\ncc_bal = cc_bal.merge(grp, on = ['SK_ID_CURR'], how = 'left')\ndel grp \ngc.collect()\n\ngrp = cc_bal.groupby(by = ['SK_ID_CURR'])['AMT_DRAWINGS_CURRENT'].max().reset_index().rename(index = str, columns ={ 'AMT_DRAWINGS_CURRENT' : 'MAX_C_DRW'})\ncc_bal = cc_bal.merge(grp, on = ['SK_ID_CURR'], how = 'left')\ndel grp \ngc.collect()\n\ngrp = cc_bal.groupby(by = ['SK_ID_CURR'])['AMT_DRAWINGS_CURRENT'].min().reset_index().rename(index = str, columns ={ 'AMT_DRAWINGS_CURRENT' : 'MIN_C_DRW'})\ncc_bal = cc_bal.merge(grp, on = ['SK_ID_CURR'], how = 'left')\ndel grp \ngc.collect()\n\ngrp = cc_bal.groupby(by = ['SK_ID_CURR'])['AMT_DRAWINGS_OTHER_CURRENT'].max().reset_index().rename(index = str, columns ={ 'AMT_DRAWINGS_OTHER_CURRENT' : 'MAX_O_DRW'})\ncc_bal = cc_bal.merge(grp, on = ['SK_ID_CURR'], how = 'left')\ndel grp \ngc.collect()\n\ngrp = cc_bal.groupby(by = ['SK_ID_CURR'])['AMT_DRAWINGS_OTHER_CURRENT'].min().reset_index().rename(index = str, columns ={ 'AMT_DRAWINGS_OTHER_CURRENT' : 'MIN_O_DRW'})\ncc_bal = cc_bal.merge(grp, on = ['SK_ID_CURR'], how = 'left')\ndel grp \ngc.collect()\n\ngrp = cc_bal.groupby(by = ['SK_ID_CURR'])['AMT_DRAWINGS_POS_CURRENT'].max().reset_index().rename(index = str, columns ={ 'AMT_DRAWINGS_POS_CURRENT' : 'MAX_P_DRW'})\ncc_bal = cc_bal.merge(grp, on = ['SK_ID_CURR'], how = 'left')\ndel grp \ngc.collect()\n\ngrp = cc_bal.groupby(by = ['SK_ID_CURR'])['AMT_DRAWINGS_POS_CURRENT'].min().reset_index().rename(index = str, columns ={ 'AMT_DRAWINGS_POS_CURRENT' : 'MIN_P_DRW'})\ncc_bal = cc_bal.merge(grp, on = ['SK_ID_CURR'], how = 'left')\ndel grp \ngc.collect()\n\ngrp = cc_bal.groupby(by = ['SK_ID_CURR'])['AMT_INST_MIN_REGULARITY'].max().reset_index().rename(index = str, columns ={ 'AMT_INST_MIN_REGULARITY' : 'MAX_INST'})\ncc_bal = cc_bal.merge(grp, on = ['SK_ID_CURR'], how = 'left')\ndel grp \ngc.collect()\n\ngrp = cc_bal.groupby(by = ['SK_ID_CURR'])['AMT_INST_MIN_REGULARITY'].min().reset_index().rename(index = str, columns ={ 'AMT_INST_MIN_REGULARITY' : 'MIN_INST'})\ncc_bal = cc_bal.merge(grp, on = ['SK_ID_CURR'], how = 'left')\ndel grp \ngc.collect()\n\ngrp = cc_bal.groupby(by = ['SK_ID_CURR'])['AMT_PAYMENT_CURRENT'].max().reset_index().rename(index = str, columns ={ 'AMT_PAYMENT_CURRENT' : 'MAX_PAYMENT'})\ncc_bal = cc_bal.merge(grp, on = ['SK_ID_CURR'], how = 'left')\ndel grp \ngc.collect()\n\ngrp = cc_bal.groupby(by = ['SK_ID_CURR'])['AMT_PAYMENT_CURRENT'].min().reset_index().rename(index = str, columns ={ 'AMT_PAYMENT_CURRENT' : 'MIN_PAYMENT'})\ncc_bal = cc_bal.merge(grp, on = ['SK_ID_CURR'], how = 'left')\ndel grp \ngc.collect()\n\ngrp = cc_bal.groupby(by = ['SK_ID_CURR'])['AMT_RECEIVABLE_PRINCIPAL'].max().reset_index().rename(index = str, columns ={ 'AMT_RECEIVABLE_PRINCIPAL' : 'MAX_PRIN'})\ncc_bal = cc_bal.merge(grp, on = ['SK_ID_CURR'], how = 'left')\ndel grp \ngc.collect()\n\ngrp = cc_bal.groupby(by = ['SK_ID_CURR'])['AMT_RECEIVABLE_PRINCIPAL'].min().reset_index().rename(index = str, columns ={ 'AMT_RECEIVABLE_PRINCIPAL' : 'MIN_PRIN'})\ncc_bal = cc_bal.merge(grp, on = ['SK_ID_CURR'], how = 'left')\ndel grp \ngc.collect()\n\ngrp = cc_bal.groupby(by = ['SK_ID_CURR'])['AMT_RECIVABLE'].max().reset_index().rename(index = str, columns ={ 'AMT_RECIVABLE' : 'AMT_R_MAX'})\ncc_bal = cc_bal.merge(grp, on = ['SK_ID_CURR'], how = 'left')\ndel grp \ngc.collect()\n\ngrp = cc_bal.groupby(by = ['SK_ID_CURR'])['AMT_RECIVABLE'].min().reset_index().rename(index = str, columns ={ 'AMT_RECIVABLE' : 'AMT_R_MIN'})\ncc_bal = cc_bal.merge(grp, on = ['SK_ID_CURR'], how = 'left')\ndel grp \ngc.collect()\n\ngrp = cc_bal.groupby(by = ['SK_ID_CURR'])['CNT_INSTALMENT_MATURE_CUM'].max().reset_index().rename(index = str, columns ={ 'CNT_INSTALMENT_MATURE_CUM' : 'CNT_INSTL_MAX'})\ncc_bal = cc_bal.merge(grp, on = ['SK_ID_CURR'], how = 'left')\ndel grp \ngc.collect()\n\ngrp = cc_bal.groupby(by = ['SK_ID_CURR'])['CNT_INSTALMENT_MATURE_CUM'].min().reset_index().rename(index = str, columns ={ 'CNT_INSTALMENT_MATURE_CUM' : 'CNT_INSTL_MIN'})\ncc_bal = cc_bal.merge(grp, on = ['SK_ID_CURR'], how = 'left')\ndel grp \ngc.collect()",
      "execution_count": null,
      "outputs": []
    },
    {
      "metadata": {
        "_cell_guid": "79c7e3d0-c299-4dcb-8224-4455121ee9b0",
        "_uuid": "d629ff2d2480ee46fbb7e2d37f6b5fab8052498a",
        "trusted": true,
        "collapsed": true
      },
      "cell_type": "code",
      "source": "application_train = pd.read_csv('../input/application_train.csv')\napplication_test = pd.read_csv('../input/application_test.csv')\nbureau = pd.read_csv(\"../input/bureau.csv\")\nbureau_balance = pd.read_csv(\"../input/bureau_balance.csv\")\ncc_bal = pd.read_csv(\"../input/credit_card_balance.csv\")\nip = pd.read_csv(\"../input/installments_payments.csv\")\nprevious_application = pd.read_csv(\"../input/previous_application.csv\")\nps = pd.read_csv(\"../input/POS_CASH_balance.csv\")",
      "execution_count": null,
      "outputs": []
    },
    {
      "metadata": {
        "trusted": true,
        "_uuid": "787e6f00d148b61122d5dd282d69514a75a47bc9"
      },
      "cell_type": "code",
      "source": "bureau.head()",
      "execution_count": null,
      "outputs": []
    },
    {
      "metadata": {
        "trusted": true,
        "_uuid": "68ce85b4d508482acd10a64c0d67bd1aaa2b06b2",
        "collapsed": true
      },
      "cell_type": "code",
      "source": "INSTALLMENTS_PAYMENTS_AGGREGATION_RECIPIES = []\nfor agg in ['mean', 'min', 'max', 'sum', 'var']:\n    for select in ['AMT_INSTALMENT',\n                   'AMT_PAYMENT',\n                   'DAYS_ENTRY_PAYMENT',\n                   'DAYS_INSTALMENT',\n                   'NUM_INSTALMENT_NUMBER',\n                   'NUM_INSTALMENT_VERSION'\n                   ]:\n        INSTALLMENTS_PAYMENTS_AGGREGATION_RECIPIES.append((select, agg))\nINSTALLMENTS_PAYMENTS_AGGREGATION_RECIPIES = [(['SK_ID_CURR'], INSTALLMENTS_PAYMENTS_AGGREGATION_RECIPIES)]",
      "execution_count": null,
      "outputs": []
    },
    {
      "metadata": {
        "trusted": true,
        "_uuid": "c3f47e5986427ed79f4abfc568d8630aee47e3ee",
        "collapsed": true
      },
      "cell_type": "code",
      "source": "groupby_aggregate_names = []\nfor groupby_cols, specs in INSTALLMENTS_PAYMENTS_AGGREGATION_RECIPIES:\n    group_object = ip.groupby(groupby_cols)\n    for select, agg in specs:\n        groupby_aggregate_name = '{}_{}_{}'.format('_'.join(groupby_cols), agg, select)\n        groupby_aggregate_names.append(groupby_aggregate_name)",
      "execution_count": null,
      "outputs": []
    },
    {
      "metadata": {
        "trusted": true,
        "_uuid": "98f389430fd99684e1a795a54e07bfa1514b1a02",
        "collapsed": true
      },
      "cell_type": "code",
      "source": "def last_k_installment_features_with_fractions(gr, periods, period_fractions):\n        features = InstallmentPaymentsFeatures.last_k_installment_features(gr, periods)\n\n        for short_period, long_period in period_fractions:\n            short_feature_names = get_feature_names_by_period(features, short_period)\n            long_feature_names = get_feature_names_by_period(features, long_period)\n\n            for short_feature, long_feature in zip(short_feature_names, long_feature_names):\n                old_name_chunk = '_{}_'.format(short_period)\n                new_name_chunk = '_{}by{}_fraction_'.format(short_period, long_period)\n                fraction_feature_name = short_feature.replace(old_name_chunk, new_name_chunk)\n                features[fraction_feature_name] = safe_div(features[short_feature], features[long_feature])\n        return features",
      "execution_count": null,
      "outputs": []
    },
    {
      "metadata": {
        "trusted": true,
        "collapsed": true,
        "_uuid": "2a076c6732f61bdb40427b8bf4d37fd06cfa785b"
      },
      "cell_type": "code",
      "source": "",
      "execution_count": null,
      "outputs": []
    },
    {
      "metadata": {
        "trusted": true,
        "collapsed": true,
        "_uuid": "7dea9128e6f3af5f86809f36ce640733076e138e"
      },
      "cell_type": "code",
      "source": "",
      "execution_count": null,
      "outputs": []
    },
    {
      "metadata": {
        "trusted": true,
        "collapsed": true,
        "_uuid": "36950ca544e09f7db5d246bd88277a95799134dd"
      },
      "cell_type": "code",
      "source": "",
      "execution_count": null,
      "outputs": []
    },
    {
      "metadata": {
        "trusted": true,
        "collapsed": true,
        "_uuid": "2581cf40dd0fae297c323cd8c06753377c2541a2"
      },
      "cell_type": "code",
      "source": "",
      "execution_count": null,
      "outputs": []
    },
    {
      "metadata": {
        "trusted": true,
        "_uuid": "9bfc28c15e6f2b7f1f0c65282ffbd0fe8a517562",
        "collapsed": true
      },
      "cell_type": "code",
      "source": "cc_bal.head(3)",
      "execution_count": null,
      "outputs": []
    },
    {
      "metadata": {
        "trusted": true,
        "_uuid": "8a1edb63edbc1d10aeb6622c039c35d0cc05ce66",
        "collapsed": true
      },
      "cell_type": "code",
      "source": "grp = previous_application.groupby(by = ['SK_ID_CURR'])['AMT_APPLICATION'].max().reset_index().rename(index = str, columns ={ 'AMT_APPLICATION' : 'DIFF_CREDIT_ANNUITY'})\nprevious_application = previous_application.merge(grp, on = ['SK_ID_CURR'], how = 'left')\ndel grp \ngc.collect()",
      "execution_count": null,
      "outputs": []
    },
    {
      "metadata": {
        "trusted": true,
        "_uuid": "dbdc20bc7626042667e419da52de0ee07d23375d",
        "collapsed": true
      },
      "cell_type": "code",
      "source": "previous_application['Isxsell'] = np.where(previous_application['NAME_PRODUCT_TYPE'] == 'x-sell', 1, 0)",
      "execution_count": null,
      "outputs": []
    },
    {
      "metadata": {
        "trusted": true,
        "collapsed": true,
        "_uuid": "2980a4c0f5f01d8166181f884932ef8fbb8ed88a"
      },
      "cell_type": "code",
      "source": "previous_application['IsRefreshed'] = np.where(previous_application['NAME_CLIENT_TYPE'] == 'Refreshed', 1, 0)",
      "execution_count": null,
      "outputs": []
    },
    {
      "metadata": {
        "trusted": true,
        "_uuid": "5f7b5b2cd3fe172c666e409015eaf2ef3e312a66",
        "collapsed": true
      },
      "cell_type": "code",
      "source": " avg_prev = previous_application.groupby('SK_ID_CURR').mean()",
      "execution_count": null,
      "outputs": []
    },
    {
      "metadata": {
        "trusted": true,
        "_uuid": "409bade98c784b7b8e0e4c801ce3d21b453d40f3",
        "collapsed": true
      },
      "cell_type": "code",
      "source": "avg_prev.head()",
      "execution_count": null,
      "outputs": []
    },
    {
      "metadata": {
        "trusted": true,
        "_uuid": "4627d717f1888b1be930c3ed007614befab8db1e",
        "collapsed": true
      },
      "cell_type": "code",
      "source": "previous_application.loc[previous_application['SK_ID_CURR'] == 271877]",
      "execution_count": null,
      "outputs": []
    },
    {
      "metadata": {
        "trusted": true,
        "_uuid": "f5a614cfb11fd2e7ba6d63b08badf43677ab0bea",
        "collapsed": true
      },
      "cell_type": "code",
      "source": "grp = previous_application.groupby(by = ['SK_ID_CURR'])['DAYS_LAST_DUE'].min().reset_index().rename(index = str, columns = {'DAYS_LAST_DUE' : 'MIN_DAYS_LAST_DUE'})\nprevious_application = previous_application.merge(grp, on = ['SK_ID_CURR'], how = 'left')\ndel grp \ngc.collect()",
      "execution_count": null,
      "outputs": []
    },
    {
      "metadata": {
        "trusted": true,
        "_uuid": "7a93e4eee84acdcab261088d07832f7eb5e52c1f",
        "collapsed": true
      },
      "cell_type": "code",
      "source": "installments_payments.head()",
      "execution_count": null,
      "outputs": []
    },
    {
      "metadata": {
        "trusted": true,
        "collapsed": true,
        "_uuid": "ad6bec00c5d866483ba629dc81aecb3cf2ec6080"
      },
      "cell_type": "code",
      "source": "ip = pd.read_csv(\"../input/installments_payments.csv\")",
      "execution_count": null,
      "outputs": []
    },
    {
      "metadata": {
        "trusted": true,
        "_uuid": "4b06c2897ed612688019d0d4910f3d41e5189e5f",
        "collapsed": true
      },
      "cell_type": "code",
      "source": "ip['DAYS_INSTALMENT'] = abs(ip['DAYS_INSTALMENT'])\nip['DAYS_ENTRY_PAYMENT'] = abs(ip['DAYS_ENTRY_PAYMENT'])\ngrp = ip.groupby(by = ['SK_ID_CURR'])['DAYS_INSTALMENT'].sum().reset_index().rename(index = str, columns = {'DAYS_INSTALMENT' : 'DAYS_INSTALMENT_DATE'})\nip = ip.merge(grp, on = ['SK_ID_CURR'], how = 'left')\ndel grp\ngc.collect()\n\ngrp = ip.groupby(by = ['SK_ID_CURR'])['DAYS_ENTRY_PAYMENT'].sum().reset_index().rename(index = str, columns = {'DAYS_ENTRY_PAYMENT' : 'DAYS_PAYMENT_DONE'})\nip = ip.merge(grp, on = ['SK_ID_CURR'], how = 'left')\ndel grp\ngc.collect()\n\nip['DIFF'] = (ip['DAYS_PAYMENT_DONE'] - ip['DAYS_INSTALMENT_DATE'])\ndel ip['DAYS_INSTALMENT_DATE']\ndel ip['DAYS_PAYMENT_DONE']\ngc.collect()\n\ngrp = ip.groupby(by = ['SK_ID_CURR'])['DIFF'].max().reset_index().rename(index = str, columns ={ 'DIFF' : 'DIFF_INSTALMENT_PAYMENT_DATE_MAX'})\nip = ip.merge(grp, on = ['SK_ID_CURR'], how = 'left')\ndel grp \ngc.collect()\n\ngrp = ip.groupby(by = ['SK_ID_CURR'])['DIFF'].min().reset_index().rename(index = str, columns ={ 'DIFF' : 'DIFF_INSTALMENT_PAYMENT_DATE_MIN'})\nip = ip.merge(grp, on = ['SK_ID_CURR'], how = 'left')\ndel grp \ngc.collect()\n    \ndel ip['DIFF']\n#del ip['DIFF_INSTALMENT_PAYMENT_DATE_x']\n#del ip['DIFF_INSTALMENT_PAYMENT_DATE_y']\ngc.collect() ",
      "execution_count": null,
      "outputs": []
    },
    {
      "metadata": {
        "trusted": true,
        "_uuid": "08f9e0883ddee92231ba512073d8eb652e68ccc6",
        "collapsed": true
      },
      "cell_type": "code",
      "source": "ps.head()",
      "execution_count": null,
      "outputs": []
    },
    {
      "metadata": {
        "trusted": true,
        "_uuid": "b9503125c83766d69a0f35c0dfa95cac14746827",
        "collapsed": true
      },
      "cell_type": "code",
      "source": "grp = ps.groupby(by = ['SK_ID_CURR'])['MONTHS_BALANCE'].min().reset_index().rename(index = str, columns ={ 'MONTHS_BALANCE' : 'MIN_BAL'})\nps = ps.merge(grp, on = ['SK_ID_CURR'], how = 'left')\ndel grp \ngc.collect()",
      "execution_count": null,
      "outputs": []
    },
    {
      "metadata": {
        "trusted": true,
        "_uuid": "77210c2b3b69e0f796d3f056791592f0ba28d5d8",
        "collapsed": true
      },
      "cell_type": "code",
      "source": "grp = ps.groupby(by = ['SK_ID_CURR'])['MONTHS_BALANCE'].max().reset_index().rename(index = str, columns ={ 'MONTHS_BALANCE' : 'MAX_BAL'})\nps = ps.merge(grp, on = ['SK_ID_CURR'], how = 'left')\ndel grp \ngc.collect()\n\ngrp = ps.groupby(by = ['SK_ID_CURR'])['CNT_INSTALMENT'].min().reset_index().rename(index = str, columns ={ 'CNT_INSTALMENT' : 'MIN_CNT'})\nps = ps.merge(grp, on = ['SK_ID_CURR'], how = 'left')\ndel grp \ngc.collect()\n\ngrp = ps.groupby(by = ['SK_ID_CURR'])['CNT_INSTALMENT'].max().reset_index().rename(index = str, columns ={ 'CNT_INSTALMENT' : 'MAX_CNT'})\nps = ps.merge(grp, on = ['SK_ID_CURR'], how = 'left')\ndel grp \ngc.collect()\n\ngrp = ps.groupby(by = ['SK_ID_CURR'])['CNT_INSTALMENT_FUTURE'].min().reset_index().rename(index = str, columns ={ 'CNT_INSTALMENT_FUTURE' : 'MIN_CNT_FUT'})\nps = ps.merge(grp, on = ['SK_ID_CURR'], how = 'left')\ndel grp \ngc.collect()\n\ngrp = ps.groupby(by = ['SK_ID_CURR'])['CNT_INSTALMENT_FUTURE'].max().reset_index().rename(index = str, columns ={ 'CNT_INSTALMENT_FUTURE' : 'MAX_CNT_FUT'})\nps = ps.merge(grp, on = ['SK_ID_CURR'], how = 'left')\ndel grp \ngc.collect()",
      "execution_count": null,
      "outputs": []
    },
    {
      "metadata": {
        "trusted": true,
        "_uuid": "b6d70bd9a1f9b98e799ec025cca17c0d19bfd395",
        "collapsed": true
      },
      "cell_type": "code",
      "source": "cc_bal.head()",
      "execution_count": null,
      "outputs": []
    },
    {
      "metadata": {
        "trusted": true,
        "_uuid": "e26f4968cb805d94965a292fd763a8d4b7c33f40",
        "collapsed": true
      },
      "cell_type": "code",
      "source": "previous_application['NAME_CLIENT_TYPE'].value_counts()",
      "execution_count": null,
      "outputs": []
    },
    {
      "metadata": {
        "trusted": true,
        "_uuid": "07372692a587ff9508e5ced64f02b566e30d95ef",
        "collapsed": true
      },
      "cell_type": "code",
      "source": "train = application_train[['APARTMENTS_AVG', 'BASEMENTAREA_AVG', 'YEARS_BEGINEXPLUATATION_AVG',\n                           'YEARS_BUILD_AVG', 'COMMONAREA_AVG', 'ELEVATORS_AVG', 'ENTRANCES_AVG',\n                           'FLOORSMAX_AVG', 'FLOORSMIN_AVG', 'LANDAREA_AVG', 'LIVINGAPARTMENTS_AVG',\n                           'LIVINGAREA_AVG','NONLIVINGAPARTMENTS_AVG', 'NONLIVINGAREA_AVG', 'APARTMENTS_MODE', 'BASEMENTAREA_MODE',\n                           'YEARS_BEGINEXPLUATATION_MODE', 'YEARS_BUILD_MODE', 'COMMONAREA_MODE', 'ELEVATORS_MODE',\n                           'ENTRANCES_MODE', 'FLOORSMAX_MODE', 'FLOORSMIN_MODE', 'LANDAREA_MODE', 'LIVINGAPARTMENTS_MODE', 'TARGET']]",
      "execution_count": null,
      "outputs": []
    },
    {
      "metadata": {
        "trusted": true,
        "collapsed": true,
        "_uuid": "ec0c8e2592d7229e70011e271c67a102c7b470aa"
      },
      "cell_type": "code",
      "source": "train = application_train[['ELEVATORS_MEDI','ENTRANCES_MEDI', 'ELEVATORS_MODE', 'ENTRANCES_MODE', 'ELEVATORS_AVG',\n                           'ENTRANCES_AVG', 'TARGET']]",
      "execution_count": null,
      "outputs": []
    },
    {
      "metadata": {
        "trusted": true,
        "_uuid": "fa3d6596cfdaa7f60e8782aec0c41f78e6d89258",
        "collapsed": true
      },
      "cell_type": "code",
      "source": "colormap = plt.cm.RdBu\nfig = plt.figure(figsize=(20,20))\nfig.add_subplot(1,1,1)\nplt.title('Correlation of Features', y=1.05, size=8)\nsns.heatmap(train.astype(float).corr(),linewidths=0.1,vmax=1.0, \nsquare=True, cmap=colormap, linecolor='white', annot=True)",
      "execution_count": null,
      "outputs": []
    },
    {
      "metadata": {
        "trusted": true,
        "collapsed": true,
        "_uuid": "a67bd72f2233cfd6c454e7f87643ac988ef5056d"
      },
      "cell_type": "code",
      "source": "def plot_distribution(feature,color):\n    plt.figure(figsize=(10,6))\n    plt.title(\"Distribution of %s\" % feature)\n    sns.distplot(application_train[feature].dropna(),color=color, kde=True,bins=100)\n    plt.show()   ",
      "execution_count": null,
      "outputs": []
    },
    {
      "metadata": {
        "trusted": true,
        "_uuid": "0a3a6baac072df03408060c83af62e94b7077266",
        "collapsed": true
      },
      "cell_type": "code",
      "source": "bureau_balance.head(30)",
      "execution_count": null,
      "outputs": []
    },
    {
      "metadata": {
        "trusted": true,
        "_uuid": "ba5a020742900acf0048a8b1502456a3514bfa35",
        "collapsed": true
      },
      "cell_type": "code",
      "source": "bureau_balance['MONTHS_BALANCE'] = bureau_balance['MONTHS_BALANCE'].replace(0, 1)",
      "execution_count": null,
      "outputs": []
    },
    {
      "metadata": {
        "trusted": true,
        "_uuid": "23a3a42774559854efc6d85cea206909f9c4ec5b",
        "collapsed": true
      },
      "cell_type": "code",
      "source": "bureau_balance['MONTHS_BALANCE'].value_counts()",
      "execution_count": null,
      "outputs": []
    },
    {
      "metadata": {
        "trusted": true,
        "collapsed": true,
        "_uuid": "3db5c559616c680092b1708e5fddaa0917499080"
      },
      "cell_type": "code",
      "source": "replacement = {'C':0, '0':0.1, 'X':0, '1':600, '2': 725, '3':800, '4':900, '5':1000}\nbureau_balance['SCORE'] = bureau_balance['STATUS'].apply(lambda x: replacement.get(x))",
      "execution_count": null,
      "outputs": []
    },
    {
      "metadata": {
        "trusted": true,
        "_uuid": "c629121349347affc3ff4ded271f573a937ec45b",
        "collapsed": true
      },
      "cell_type": "code",
      "source": "bureau_balance = bureau_balance.query('MONTHS_BALANCE != 0')",
      "execution_count": null,
      "outputs": []
    },
    {
      "metadata": {
        "trusted": true,
        "_uuid": "692c38b4949d26c21a0e49bbae91f42e653ffe85",
        "collapsed": true
      },
      "cell_type": "code",
      "source": "bureau_balance.head(25)",
      "execution_count": null,
      "outputs": []
    },
    {
      "metadata": {
        "trusted": true,
        "collapsed": true,
        "_uuid": "afbddefe63c1139c1eebee9cb2f45759b31a5fc5"
      },
      "cell_type": "code",
      "source": "bureau_balance['W_SCORES'] = -(bureau_balance['SCORE']/bureau_balance['MONTHS_BALANCE'])",
      "execution_count": null,
      "outputs": []
    },
    {
      "metadata": {
        "trusted": true,
        "_uuid": "4ad77d36d6068699d5194b0e4a869be58c84e3f5",
        "collapsed": true
      },
      "cell_type": "code",
      "source": "avg_buro_bal = bureau_balance.groupby('SK_ID_BUREAU').mean()",
      "execution_count": null,
      "outputs": []
    },
    {
      "metadata": {
        "trusted": true,
        "_uuid": "aaf2f7aa814a5c2cd830a10fd6ef971e7a25d6c8",
        "collapsed": true
      },
      "cell_type": "code",
      "source": "avg_buro_bal.head()",
      "execution_count": null,
      "outputs": []
    },
    {
      "metadata": {
        "trusted": true,
        "_uuid": "e3c194b1ce76e0417c2fccac4f202dade9b7248b",
        "collapsed": true
      },
      "cell_type": "code",
      "source": "avg_buro_bal.loc[5001797] #5001797  5715448",
      "execution_count": null,
      "outputs": []
    },
    {
      "metadata": {
        "trusted": true,
        "_uuid": "399098d7f34193533003d9c33f083b82bdf1d7c3",
        "collapsed": true
      },
      "cell_type": "code",
      "source": "#w = lambda x: np.average(x, weights=-1/bureau_balance.loc[x.index, 'MONTHS_BALANCE'])\n#a = {'SCORE': w}\n#avg_buro_bal = bureau_balance.groupby('SK_ID_BUREAU')['SCORE'].agg(a)\n\n#wm = lambda x: np.average(x, weights=-1/bureau_balance.loc[x.index, 'MONTHS_BALANCE'])\n#avg_bal = bureau_balance.groupby('SK_ID_BUREAU').agg(wm) ",
      "execution_count": null,
      "outputs": []
    },
    {
      "metadata": {
        "trusted": true,
        "_uuid": "6cd725c74553eb7b5ea2c6750c393837f8616a15",
        "collapsed": true
      },
      "cell_type": "code",
      "source": "avg_buro_bal.loc[5715448]",
      "execution_count": null,
      "outputs": []
    },
    {
      "metadata": {
        "trusted": true,
        "_uuid": "142ca89dff1f9b6d50df231801003715edcfd38c",
        "collapsed": true
      },
      "cell_type": "code",
      "source": "bureau_balance['MONTHS_BALANCE'].dtype",
      "execution_count": null,
      "outputs": []
    },
    {
      "metadata": {
        "trusted": true,
        "_uuid": "ecd5daa31c8e22b74d5a1c8d5aff040ff94d5a07",
        "collapsed": true
      },
      "cell_type": "code",
      "source": "buro_bal = pd.read_csv('../input/bureau_balance.csv')\nprint('Buro bal shape : ', buro_bal.shape)\n        \nprint('transform to dummies')\nburo_bal = pd.concat([buro_bal, pd.get_dummies(buro_bal.STATUS, prefix='buro_bal_status')], axis=1).drop('STATUS', axis=1)\n\nprint('Counting buros')\nburo_counts = buro_bal[['SK_ID_BUREAU', 'MONTHS_BALANCE']].groupby('SK_ID_BUREAU').count()\nburo_bal['buro_count'] = buro_bal['SK_ID_BUREAU'].map(buro_counts['MONTHS_BALANCE'])\n    \nprint('averaging buro bal')\navg_buro_bal = buro_bal.groupby('SK_ID_BUREAU').mean()",
      "execution_count": null,
      "outputs": []
    },
    {
      "metadata": {
        "trusted": true,
        "_uuid": "0132504e4f06173813639fed558bfb89a9a434e8",
        "collapsed": true
      },
      "cell_type": "code",
      "source": "buro_bal.head(29)",
      "execution_count": null,
      "outputs": []
    },
    {
      "metadata": {
        "trusted": true,
        "_uuid": "eedf7c8ce6591461da894ca4f3a867fca820e701",
        "collapsed": true
      },
      "cell_type": "code",
      "source": "avg_buro_bal.head()",
      "execution_count": null,
      "outputs": []
    },
    {
      "metadata": {
        "trusted": true,
        "_uuid": "e0cf3fa15fc5c0fc8c82676f1854f49dbe09b5cf",
        "collapsed": true
      },
      "cell_type": "code",
      "source": "wm = lambda x: np.average(x, weights=-1/credit_card_balance.loc[x.index, 'MONTHS_BALANCE'])\navg_cc_bal = credit_card_balance.groupby('SK_ID_CURR').agg(wm) \navg_cc_bal.columns = ['cc_bal_' + f_ for f_ in avg_cc_bal.columns]",
      "execution_count": null,
      "outputs": []
    },
    {
      "metadata": {
        "trusted": true,
        "_uuid": "f986df6cf5ac057f7db21380cbc710329d2fac5a",
        "collapsed": true
      },
      "cell_type": "code",
      "source": "POS_CASH_balance.head()",
      "execution_count": null,
      "outputs": []
    },
    {
      "metadata": {
        "trusted": true,
        "_uuid": "940a012e13b91ebb1d68229427b1a67dcf61bd09",
        "collapsed": true
      },
      "cell_type": "code",
      "source": "wm = lambda x: np.average(x, weights=-1/POS_CASH_balance.loc[x.index, 'MONTHS_BALANCE'])\nf = {'CNT_INSTALMENT': wm, 'CNT_INSTALMENT_FUTURE': wm, 'SK_DPD': wm, 'SK_DPD_DEF':wm}\ncash_avg = POS_CASH_balance.groupby('SK_ID_CURR')['CNT_INSTALMENT','CNT_INSTALMENT_FUTURE',\n                                                 'SK_DPD', 'SK_DPD_DEF'].agg(f)",
      "execution_count": null,
      "outputs": []
    },
    {
      "metadata": {
        "trusted": true,
        "_uuid": "d6cd6c9bd051234f398f6f40a3834fac0a0d85f6",
        "collapsed": true
      },
      "cell_type": "code",
      "source": "def missing_data(data):\n    total_missing_values = data.isnull().sum().sort_values(ascending=False)\n    percent = (data.isnull().sum()/data.isnull().count()*100).sort_values(ascending = False)\n    return pd.concat([total_missing_values, percent], axis=1, keys=['Total', 'Percent'])",
      "execution_count": null,
      "outputs": []
    },
    {
      "metadata": {
        "trusted": true,
        "collapsed": true,
        "_uuid": "fc0d2144323470853d10f0066a300e8f3b0fd974"
      },
      "cell_type": "code",
      "source": "def plot_missing_data(data, n=20):\n    missing_data(data).iloc[:n, 1].plot(kind='bar',  title='{} largest missing fractions'.format(n))",
      "execution_count": null,
      "outputs": []
    },
    {
      "metadata": {
        "trusted": true,
        "_uuid": "e7b9d11a44feff1e4267b27549d6d7f560a65c80",
        "collapsed": true
      },
      "cell_type": "code",
      "source": "#plot_missing_data(application_train, 10)",
      "execution_count": null,
      "outputs": []
    },
    {
      "metadata": {
        "_uuid": "fb8395cb1326adf4f2c5253966ea573c56c02346"
      },
      "cell_type": "markdown",
      "source": "Since our target variable is 'TARGET', let's do some inspection with it first:"
    },
    {
      "metadata": {
        "trusted": true,
        "_uuid": "38bf35c09823fbac70858691a7211bfddb84fb79",
        "collapsed": true
      },
      "cell_type": "code",
      "source": "#application_train['TARGET'].value_counts().plot(kind='pie', figsize=(7,7), title = '% of loan repayers and loan defaulters', autopct='%1.0f%%', \n                                               # explode=(0.3, 0),\n                                                #shadow=True)",
      "execution_count": null,
      "outputs": []
    },
    {
      "metadata": {
        "trusted": true,
        "collapsed": true,
        "_uuid": "211722eb9b1ff5a9db04825dde2fce701fc9f5e8"
      },
      "cell_type": "code",
      "source": "def plot_stats(feature,label_rotation=False,horizontal_layout=True):\n    temp = application_train[feature].value_counts()\n    df1 = pd.DataFrame({feature: temp.index,'Number of contracts': temp.values})\n\n    # Calculate the percentage of target=1 per category value\n    cat_perc = application_train[[feature, 'TARGET']].groupby([feature],as_index=False).mean()\n    cat_perc.sort_values(by='TARGET', ascending=False, inplace=True)\n    \n    if(horizontal_layout):\n        fig, (ax1, ax2) = plt.subplots(ncols=2, figsize=(12,6))\n    else:\n        fig, (ax1, ax2) = plt.subplots(nrows=2, figsize=(12,14))\n    sns.set_color_codes(\"pastel\")\n    s = sns.barplot(ax=ax1, x = feature, y=\"Number of contracts\",data=df1)\n    if(label_rotation):\n        s.set_xticklabels(s.get_xticklabels(),rotation=90)\n    \n    s = sns.barplot(ax=ax2, x = feature, y='TARGET', order=cat_perc[feature], data=cat_perc)\n    if(label_rotation):\n        s.set_xticklabels(s.get_xticklabels(),rotation=90)\n    plt.ylabel('Percent of target with value 1 [%]', fontsize=10)\n    plt.tick_params(axis='both', which='major', labelsize=10)\n\n    plt.show();",
      "execution_count": null,
      "outputs": []
    },
    {
      "metadata": {
        "trusted": true,
        "_uuid": "3a88cf0254dba4e8ba1e1c0c68b0dce68477368f",
        "collapsed": true
      },
      "cell_type": "code",
      "source": "plot_stats('FONDKAPREMONT_MODE')",
      "execution_count": null,
      "outputs": []
    },
    {
      "metadata": {
        "trusted": true,
        "_uuid": "18a2c9d50528b89a41b7345a96452ab1717daf52",
        "collapsed": true
      },
      "cell_type": "code",
      "source": "target = application_train['TARGET']",
      "execution_count": null,
      "outputs": []
    },
    {
      "metadata": {
        "trusted": true,
        "_uuid": "823015f36669156b5d2e89935c6bd326c51f7072",
        "collapsed": true
      },
      "cell_type": "code",
      "source": "del application_train['TARGET']",
      "execution_count": null,
      "outputs": []
    },
    {
      "metadata": {
        "trusted": true,
        "collapsed": true,
        "_uuid": "32a0959160d3938679243d4a3963b9cebce106e1"
      },
      "cell_type": "code",
      "source": "lb=LabelEncoder()\ndef DummyEncoding_Cat(df):\n    #df=df.copy()\n    Cat_Var=df.select_dtypes('object').columns.tolist()\n    for col in Cat_Var:\n        df[col]=pd.get_dummies(df[col])\n    #return df ",
      "execution_count": null,
      "outputs": []
    },
    {
      "metadata": {
        "trusted": true,
        "collapsed": true,
        "_uuid": "1a92e92a46dfb120b830ee8a32a7ef5858320073"
      },
      "cell_type": "code",
      "source": "DummyEncoding_Cat(application_train)\nDummyEncoding_Cat(application_test)",
      "execution_count": null,
      "outputs": []
    },
    {
      "metadata": {
        "trusted": true,
        "collapsed": true,
        "_uuid": "79705d9d10d60ecf3c8514fc4153ef943045995b"
      },
      "cell_type": "code",
      "source": "def Fill_NA(df):\n    #df=df.copy()\n    Num_Features=df.select_dtypes(['float64','int64']).columns.tolist()\n    #mean = df[Num_Features].mean()\n    #df[Num_Features] = df[Num_Features].fillna(mean)\n    df[Num_Features]= df[Num_Features].fillna(-999)\n    #return df",
      "execution_count": null,
      "outputs": []
    },
    {
      "metadata": {
        "trusted": true,
        "collapsed": true,
        "_uuid": "8da20a6b7a4a358bced7de3547cadc8a4433317c"
      },
      "cell_type": "code",
      "source": "#Fill_NA(application_test)\nmedian_ext1 = application_train.groupby(['NAME_INCOME_TYPE'])[\"EXT_SOURCE_1\"].median()\n\ndef fillna_ext1(row, median_ext1):\n        ext1 = median_ext1.loc[row[\"NAME_INCOME_TYPE\"]]\n        return ext1\napplication_train[\"EXT_SOURCE_1\"] = application_train.apply(lambda row : fillna_ext1(row, median_ext1) if np.isnan(row['EXT_SOURCE_1']) else row['EXT_SOURCE_1'], axis=1)",
      "execution_count": null,
      "outputs": []
    },
    {
      "metadata": {
        "trusted": true,
        "collapsed": true,
        "_uuid": "88d1afe485e2a99302140e081c74a3327ba0f1c8"
      },
      "cell_type": "code",
      "source": "#Fill_NA(application_train)\nmedian_ext2 = application_train.groupby(['NAME_INCOME_TYPE'])[\"EXT_SOURCE_2\"].median()\n\ndef fillna_ext2(row, median_ext2):\n        ext2 = median_ext2.loc[row[\"NAME_INCOME_TYPE\"]]\n        return ext2\napplication_train[\"EXT_SOURCE_2\"] = application_train.apply(lambda row : fillna_ext2(row, median_ext2) if np.isnan(row['EXT_SOURCE_2']) else row['EXT_SOURCE_2'], axis=1)",
      "execution_count": null,
      "outputs": []
    },
    {
      "metadata": {
        "trusted": true,
        "collapsed": true,
        "_uuid": "e70711c0c1abcc6abc3b730cc31d73819cc66209"
      },
      "cell_type": "code",
      "source": "median_ext3 = application_train.groupby(['NAME_INCOME_TYPE'])[\"EXT_SOURCE_3\"].median()\n\ndef fillna_ext3(row, median_ext3):\n        ext3 = median_ext3.loc[row[\"NAME_INCOME_TYPE\"]]\n        return ext3\napplication_train[\"EXT_SOURCE_3\"] = application_train.apply(lambda row : fillna_ext3(row, median_ext3) if np.isnan(row['EXT_SOURCE_3']) else row['EXT_SOURCE_3'], axis=1)",
      "execution_count": null,
      "outputs": []
    },
    {
      "metadata": {
        "trusted": true,
        "collapsed": true,
        "_uuid": "0259000d34300f816f293f8363d3b0640aafad2e"
      },
      "cell_type": "code",
      "source": "median_ext3 = application_test.groupby(['NAME_INCOME_TYPE'])[\"EXT_SOURCE_3\"].median()\n\ndef fillna_ext3(row, median_ext3):\n        ext3 = median_ext3.loc[row[\"NAME_INCOME_TYPE\"]]\n        return ext3\napplication_test[\"EXT_SOURCE_3\"] = application_test.apply(lambda row : fillna_ext3(row, median_ext3) if np.isnan(row['EXT_SOURCE_3']) else row['EXT_SOURCE_3'], axis=1)",
      "execution_count": null,
      "outputs": []
    },
    {
      "metadata": {
        "trusted": true,
        "collapsed": true,
        "_uuid": "ede6c32319931672cafe375a812a0017daf0d2e3"
      },
      "cell_type": "code",
      "source": "median_ext3 = application_test.groupby(['NAME_INCOME_TYPE'])[\"EXT_SOURCE_2\"].median()\n\ndef fillna_ext3(row, median_ext3):\n        ext3 = median_ext3.loc[row[\"NAME_INCOME_TYPE\"]]\n        return ext3\napplication_test[\"EXT_SOURCE_2\"] = application_test.apply(lambda row : fillna_ext3(row, median_ext3) if np.isnan(row['EXT_SOURCE_2']) else row['EXT_SOURCE_2'], axis=1)",
      "execution_count": null,
      "outputs": []
    },
    {
      "metadata": {
        "trusted": true,
        "collapsed": true,
        "_uuid": "bd52339d70ad493119afa2d196e8eebbfc0ae466"
      },
      "cell_type": "code",
      "source": "median_ext3 = application_test.groupby(['NAME_INCOME_TYPE'])[\"EXT_SOURCE_1\"].median()\n\ndef fillna_ext3(row, median_ext3):\n        ext3 = median_ext3.loc[row[\"NAME_INCOME_TYPE\"]]\n        return ext3\napplication_test[\"EXT_SOURCE_1\"] = application_test.apply(lambda row : fillna_ext3(row, median_ext3) if np.isnan(row['EXT_SOURCE_1']) else row['EXT_SOURCE_1'], axis=1)",
      "execution_count": null,
      "outputs": []
    },
    {
      "metadata": {
        "trusted": true,
        "_uuid": "e8961e92539499b1e8a5d7827f6c1875b1753650",
        "collapsed": true
      },
      "cell_type": "code",
      "source": "#col_list = [0, 41, 42, 43, 12, 17, 8, 9, 40, 20, 10, 18, 21, 95, 69, 71, 67, 7, 3, 16, 6, 4, 5, 13, 14, 15, 88, 19, 28]\n#application_train = application_train.iloc[:, col_list]\n#col1_list = [0, 40, 41, 42, 11, 16, 7, 8, 39, 19, 9, 17, 20, 94, 68, 70, 66, 6, 2, 15, 5, 3, 4, 12, 13, 14, 87, 18, 27]\n#application_test = application_test.iloc[:, col1_list]\napplication_train['EXT_SOURCE_3'].fillna((application_train['EXT_SOURCE_3'].mean()), inplace=True)\napplication_test['EXT_SOURCE_3'].fillna((application_test['EXT_SOURCE_3'].mean()), inplace=True)",
      "execution_count": null,
      "outputs": []
    },
    {
      "metadata": {
        "trusted": true,
        "collapsed": true,
        "_uuid": "45e3b3e4a4ffabbd047e190800076e3d02b2dcf5"
      },
      "cell_type": "code",
      "source": "application_train['EXT_12'] = application_train['EXT_SOURCE_1']*application_train['EXT_SOURCE_2']\napplication_train['EXT_23'] = application_train['EXT_SOURCE_2']*application_train['EXT_SOURCE_3']\napplication_train['EXT_31'] = application_train['EXT_SOURCE_1']*application_train['EXT_SOURCE_3']",
      "execution_count": null,
      "outputs": []
    },
    {
      "metadata": {
        "trusted": true,
        "collapsed": true,
        "_uuid": "7a57e06dad5a0e4f6fbdbc34cd002285da69ab1a"
      },
      "cell_type": "code",
      "source": "col = application_train.loc[:, \"EXT_SOURCE_1\":\"EXT_SOURCE_3\"]\napplication_train['AVG_EXT'] = col.mean(axis=1)",
      "execution_count": null,
      "outputs": []
    },
    {
      "metadata": {
        "trusted": true,
        "collapsed": true,
        "_uuid": "125e5d20e2fa563087c586c0f76cfa45e05e57fe"
      },
      "cell_type": "code",
      "source": "DummyEncoding_Cat(application_train)",
      "execution_count": null,
      "outputs": []
    },
    {
      "metadata": {
        "trusted": true,
        "_uuid": "50e1ddb97f0b3f3976f9d9233a42355d737f86a3",
        "collapsed": true
      },
      "cell_type": "code",
      "source": "application_test['EXT_12'] = application_test['EXT_SOURCE_1']*application_test['EXT_SOURCE_2']\napplication_test['EXT_23'] = application_test['EXT_SOURCE_2']*application_test['EXT_SOURCE_3']\napplication_test['EXT_31'] = application_test['EXT_SOURCE_1']*application_test['EXT_SOURCE_3']",
      "execution_count": null,
      "outputs": []
    },
    {
      "metadata": {
        "trusted": true,
        "_uuid": "5a4b2fbc6c223c1173d1f443194972909ee5871f",
        "collapsed": true
      },
      "cell_type": "code",
      "source": "col = application_test.loc[:, \"EXT_SOURCE_1\":\"EXT_SOURCE_3\"]\napplication_test['AVG_EXT'] = col.mean(axis=1)",
      "execution_count": null,
      "outputs": []
    },
    {
      "metadata": {
        "trusted": true,
        "collapsed": true,
        "_uuid": "4f82e0bc8829c32d4158a12683d5fae47f038ade"
      },
      "cell_type": "code",
      "source": "DummyEncoding_Cat(application_test)",
      "execution_count": null,
      "outputs": []
    },
    {
      "metadata": {
        "trusted": true,
        "collapsed": true,
        "_uuid": "f9f5272fe63334a9ef4d0c38202b66fc567942c4"
      },
      "cell_type": "code",
      "source": "median_annuity = application_train.groupby(['CODE_GENDER'])['AMT_ANNUITY'].median()\n\ndef fillna_ann(row, median_annuity):\n        ann = median_annuity.loc[row[\"CODE_GENDER\"]]\n        return ann\napplication_train[\"AMT_ANNUITY\"] = application_train.apply(lambda row : fillna_ann(row, median_annuity) if np.isnan(row['AMT_ANNUITY']) else row['AMT_ANNUITY'], axis=1)",
      "execution_count": null,
      "outputs": []
    },
    {
      "metadata": {
        "trusted": true,
        "collapsed": true,
        "_uuid": "ee1a90952a50031f19d1326674267dcf6c573000"
      },
      "cell_type": "code",
      "source": "median_annuity = application_test.groupby(['CODE_GENDER'])['AMT_ANNUITY'].median()\n\ndef fillna_ann(row, median_annuity):\n        ann = median_annuity.loc[row[\"CODE_GENDER\"]]\n        return ann\napplication_test[\"AMT_ANNUITY\"] = application_test.apply(lambda row : fillna_ann(row, median_annuity) if np.isnan(row['AMT_ANNUITY']) else row['AMT_ANNUITY'], axis=1)",
      "execution_count": null,
      "outputs": []
    },
    {
      "metadata": {
        "trusted": true,
        "collapsed": true,
        "_uuid": "4ca21a18ac29954747151017da4db37d30993525"
      },
      "cell_type": "code",
      "source": "application_train['BIRTH_CREDIT'] = application_train['AMT_CREDIT']*application_train['DAYS_BIRTH']\napplication_train['BIRTH_ANNUITY'] = application_train['AMT_ANNUITY']*application_train['DAYS_BIRTH']\n\napplication_test['BIRTH_ANNUITY'] = application_test['AMT_ANNUITY']*application_test['DAYS_BIRTH']\napplication_test['BIRTH_CREDIT'] = application_test['AMT_CREDIT']*application_test['DAYS_BIRTH']\n\napplication_train['COST_INCOME'] = application_train['AMT_INCOME_TOTAL'] - application_train['AMT_GOODS_PRICE']\napplication_test['COST_INCOME'] = application_test['AMT_INCOME_TOTAL'] - application_test['AMT_GOODS_PRICE']",
      "execution_count": null,
      "outputs": []
    },
    {
      "metadata": {
        "trusted": true,
        "collapsed": true,
        "_uuid": "97b13b8ffb82e91456c4fd3e78ca188fb595f07b"
      },
      "cell_type": "code",
      "source": "#application_test['IsSingle'] = np.where(application_test['NAME_FAMILY_STATUS'] == 'Single/not married', 1, 0)\n#application_test['IsCivil'] = np.where(application_test['NAME_FAMILY_STATUS'] == 'Civil marriage', 1, 0)\n#application_test['IsSecondary'] = np.where(application_test['NAME_EDUCATION_TYPE'] == 'Secondary/secondary special', 1, 0)\n#application_test['IsRented'] = np.where(application_test['NAME_HOUSING_TYPE'] == 'Rented apartment', 1, 0)",
      "execution_count": null,
      "outputs": []
    },
    {
      "metadata": {
        "trusted": true,
        "_uuid": "452f3a3285f6b5c4c0e7011a16769e5208b7fce4",
        "collapsed": true
      },
      "cell_type": "code",
      "source": "#Ratio of debt to credit\napplication_test['Ratio_of_debt_credit'] = ((application_test['AMT_ANNUITY']+application_test['AMT_INCOME_TOTAL']) - (application_test['AMT_GOODS_PRICE']))/application_test['AMT_CREDIT']\napplication_train['Ratio_of_debt_credit'] = ((application_train['AMT_ANNUITY']+application_train['AMT_INCOME_TOTAL']) - (application_train['AMT_GOODS_PRICE']))/application_train['AMT_CREDIT']",
      "execution_count": null,
      "outputs": []
    },
    {
      "metadata": {
        "trusted": true,
        "_uuid": "ec397614e133974bca90fdd76b53b55ce8c9ced5",
        "collapsed": true
      },
      "cell_type": "code",
      "source": "# Adding IS_NAN feature for each column\n#all_application_df = pd.concat([application_train, application_test], axis=0)\n#all_application_is_nan_df = pd.DataFrame()\n#for column in all_application_df.columns:\n    #if all_application_df[column].isna().sum() == 0:\n        #continue\n    #all_application_is_nan_df['is_nan_'+column] = all_application_df[column].isna()\n    #all_application_is_nan_df['is_nan_'+column] = all_application_is_nan_df['is_nan_'+column].map(lambda v: 1 if v else 0)\n#all_application_is_nan_df['target'] = all_application_df['TARGET']\n#all_application_is_nan_df = all_application_is_nan_df[pd.notna(all_application_is_nan_df['target'])]",
      "execution_count": null,
      "outputs": []
    },
    {
      "metadata": {
        "trusted": true,
        "_uuid": "86d380d0638f3895262381e9258f367223e8adb3",
        "collapsed": true
      },
      "cell_type": "code",
      "source": "application_train['Ratio_of_credit_employement'] = application_train['AMT_CREDIT']/application_train['DAYS_EMPLOYED']\napplication_test['Ratio_of_credit_employement'] = application_test['AMT_CREDIT']/application_test['DAYS_EMPLOYED']\napplication_test['income_debt_ratio'] = ((application_test['AMT_ANNUITY']+application_test['AMT_INCOME_TOTAL']) - (application_test['AMT_GOODS_PRICE'])) / (application_test['AMT_ANNUITY']+application_test['AMT_INCOME_TOTAL'])\napplication_train['income_debt_ratio'] = ((application_train['AMT_ANNUITY']+application_train['AMT_INCOME_TOTAL']) - (application_train['AMT_GOODS_PRICE'])) / (application_train['AMT_ANNUITY']+application_train['AMT_INCOME_TOTAL'])\n\napplication_train['CreditEmployPdt'] = application_train['AMT_CREDIT'] * application_train['DAYS_EMPLOYED']\napplication_test['CreditEmployPdt'] = application_test['AMT_CREDIT'] * application_test['DAYS_EMPLOYED']\n\napplication_train['DAYS_EMPLOYED_PERC'] = application_train['DAYS_EMPLOYED'] / application_train['DAYS_BIRTH']\napplication_train['INCOME_CREDIT_PERC'] = application_train['AMT_INCOME_TOTAL'] / application_train['AMT_CREDIT']\napplication_train['INCOME_PER_PERSON'] = application_train['AMT_INCOME_TOTAL'] / application_train['CNT_FAM_MEMBERS']\napplication_train['ANNUITY_INCOME_PERC'] = application_train['AMT_ANNUITY'] / application_train['AMT_INCOME_TOTAL']\napplication_train['ANN_CREDIT_RATIO'] = application_train['AMT_ANNUITY'] / application_train['AMT_CREDIT']\n\napplication_test['DAYS_EMPLOYED_PERC'] = application_test['DAYS_EMPLOYED'] / application_test['DAYS_BIRTH']\napplication_test['INCOME_CREDIT_PERC'] = application_test['AMT_INCOME_TOTAL'] / application_test['AMT_CREDIT']\napplication_test['INCOME_PER_PERSON'] = application_test['AMT_INCOME_TOTAL'] / application_test['CNT_FAM_MEMBERS']\napplication_test['ANNUITY_INCOME_PERC'] = application_test['AMT_ANNUITY'] / application_test['AMT_INCOME_TOTAL']\napplication_test['ANN_CREDIT_RATIO'] = application_test['AMT_ANNUITY'] / application_test['AMT_CREDIT']\n\napplication_train['DAYS_UNEMPLOYED_PERC'] = 1 - application_train['DAYS_EMPLOYED_PERC']\napplication_test['DAYS_UNEMPLOYED_PERC'] = 1 - application_test['DAYS_EMPLOYED_PERC']\napplication_train['DAYS_UNEMPLOYED'] = application_train['DAYS_BIRTH'] - application_train['DAYS_EMPLOYED']\napplication_test['DAYS_UNEMPLOYED'] = application_test['DAYS_BIRTH'] - application_test['DAYS_EMPLOYED']",
      "execution_count": null,
      "outputs": []
    },
    {
      "metadata": {
        "trusted": true,
        "_uuid": "89280b9573e35ae54f6d98967093da7ea04e50b3",
        "collapsed": true
      },
      "cell_type": "code",
      "source": "mean_age_train = application_train.groupby(['CODE_GENDER'])['OWN_CAR_AGE'].mean()\n\ndef fillna_carage_train(row, mean_age_train):\n    carage_train = mean_age_train.loc[row[\"CODE_GENDER\"]]\n    return carage_train\napplication_train[\"OWN_CAR_AGE\"] = application_train.apply(lambda row : fillna_carage_train(row, mean_age_train) if np.isnan(row['OWN_CAR_AGE']) else row['OWN_CAR_AGE'], axis=1)    \n\nmean_age_test = application_test.groupby(['CODE_GENDER'])['OWN_CAR_AGE'].mean()\n\ndef fillna_carage_test(row, mean_age_test):\n    carage_test = mean_age_test.loc[row[\"CODE_GENDER\"]]\n    return carage_test\napplication_test[\"OWN_CAR_AGE\"] = application_test.apply(lambda row : fillna_carage_test(row, mean_age_test) if np.isnan(row['OWN_CAR_AGE']) else row['OWN_CAR_AGE'], axis=1) \n\napplication_train['AGE'] = application_train['OWN_CAR_AGE'] + 23\napplication_test['AGE'] = application_test['OWN_CAR_AGE'] + 23\n\napplication_train['AGE'] = application_train['AGE'].astype(int)\napplication_test['AGE'] = application_test['AGE'].astype(int)\n\napplication_train['Age45'] = np.where(application_train['AGE'] >= 45, 1, 0)\napplication_test['Age45'] = np.where(application_test['AGE'] >= 45, 1, 0)",
      "execution_count": null,
      "outputs": []
    },
    {
      "metadata": {
        "trusted": true,
        "_uuid": "ef6b85318d1d8cc356749027b0f9b055b903bc9e",
        "collapsed": true
      },
      "cell_type": "code",
      "source": "#ntrain = application_train.shape[0]\n#ntest = application_test.shape[0]\n#train = temp_df[:ntrain]\n#test = temp_df[ntrain:]\n#del application_train['TARGET']",
      "execution_count": null,
      "outputs": []
    },
    {
      "metadata": {
        "trusted": true,
        "_uuid": "dbb0c9a41e548a6dfe750cb002b67373276fd63f",
        "collapsed": true
      },
      "cell_type": "code",
      "source": "#sub = application_train.loc[:, 'FLAG_DOCUMENT_2':'FLAG_DOCUMENT_21']\n#application_train['PERC_DOCS_SUBMITTED'] = (sub.sum(axis=1))/20\n#sub1 = application_test.loc[:, 'FLAG_DOCUMENT_2':'FLAG_DOCUMENT_21']\n#application_test['PERC_DOCS_SUBMITTED'] = (sub1.sum(axis=1))/20",
      "execution_count": null,
      "outputs": []
    },
    {
      "metadata": {
        "trusted": true,
        "_uuid": "7f392cdabcdf2d09ebf0be57d8bfe0d8a3fd8eff",
        "collapsed": true
      },
      "cell_type": "markdown",
      "source": "\nsc = StandardScaler()\napplication_train = sc.fit_transform(application_train)\napplication_test = sc.transform(application_test)\npca = PCA(n_components=100, random_state=0).fit(application_train)\nX_train_pca = pca.transform(application_train)\nX_test_pca = pca.transform(application_test)"
    },
    {
      "metadata": {
        "trusted": true,
        "collapsed": true,
        "_uuid": "6a9ffa2713d4fce63eb4304969d7af20243c3b0f"
      },
      "cell_type": "markdown",
      "source": "col_names = []\nfor i in range(1,101):\n    a = \"principal_component_\" + str(i)\n    col_names.append(a)"
    },
    {
      "metadata": {
        "trusted": true,
        "_uuid": "056042642799977ca2280ad0924ba23a939f538a",
        "collapsed": true
      },
      "cell_type": "markdown",
      "source": "traindf = pd.DataFrame(data=X_train_pca, columns=col_names)\ntestdf = pd.DataFrame(data=X_test_pca, columns=col_names)"
    },
    {
      "metadata": {
        "trusted": true,
        "_uuid": "5acab128204603df06b6daae6ddcdb561aed1a44",
        "collapsed": true
      },
      "cell_type": "code",
      "source": "#application_train['DAYS_BIRTH'] = abs(application_train['DAYS_BIRTH'])\napplication_train['AGE'] = application_train['DAYS_BIRTH'] / (365)\n#application_test['DAYS_BIRTH'] = abs(application_test['DAYS_BIRTH'])\napplication_test['AGE'] = application_test['DAYS_BIRTH'] / (365)",
      "execution_count": null,
      "outputs": []
    },
    {
      "metadata": {
        "trusted": true,
        "_uuid": "1ee62202492ce95d4e8526d990680124f3a37a7f",
        "collapsed": true
      },
      "cell_type": "code",
      "source": "application_train['AGE'] = application_train['AGE'].astype(int)\napplication_test['AGE'] = application_test['AGE'].astype(int)",
      "execution_count": null,
      "outputs": []
    },
    {
      "metadata": {
        "trusted": true,
        "_uuid": "1e66051ba97760b30e4ca3599bd8a244df60444e",
        "collapsed": true
      },
      "cell_type": "code",
      "source": "#application_train['0-25'] = np.where(application_train['AGE'] <= 25, 1, 0)\n#application_train['25-35'] = np.where((application_train['AGE'] <= 35) & (application_train['AGE'] >= 25), 1, 0)\n#application_train['35-50'] = np.where((application_train['AGE'] <= 50) & (application_train['AGE'] >= 35), 1, 0)\n#application_train['50-70'] = np.where((application_train['AGE'] <= 70) & (application_train['AGE'] >= 50), 1, 0) ",
      "execution_count": null,
      "outputs": []
    },
    {
      "metadata": {
        "trusted": true,
        "_uuid": "cee0fa16fc83a85847ce1a6f0782720986a5a055",
        "collapsed": true
      },
      "cell_type": "code",
      "source": "#application_test['0-25'] = np.where(application_test['AGE'] <= 25, 1, 0)\n#application_test['25-35'] = np.where((application_test['AGE'] <= 35) & (application_test['AGE'] >= 25), 1, 0)\n#application_test['35-50'] = np.where((application_test['AGE'] <= 50) & (application_test['AGE'] >= 35), 1, 0)\n#application_test['50-70'] = np.where((application_test['AGE'] <= 70) & (application_test['AGE'] >= 50), 1, 0)",
      "execution_count": null,
      "outputs": []
    },
    {
      "metadata": {
        "trusted": true,
        "_uuid": "9e1dc5af678b2f3cbc6a3b8e66290524a4d490ac",
        "collapsed": true
      },
      "cell_type": "code",
      "source": "pv.head()",
      "execution_count": null,
      "outputs": []
    },
    {
      "metadata": {
        "trusted": true,
        "_uuid": "393143e8599ddd3e219f0f26a3d6dfb846e6b093",
        "collapsed": true
      },
      "cell_type": "code",
      "source": " #Difference of amount application and amount credit(feature engg for prev application)\ngrp = pv.groupby(by = ['SK_ID_CURR'])['AMT_CREDIT'].sum().reset_index().rename(index = str, columns = {'AMT_CREDIT' : 'AMT_CREDIT_RECEIVED'})\npv = pv.merge(grp, on = ['SK_ID_CURR'], how = 'left')\ndel grp\ngc.collect()\n\ngrp = pv.groupby(by = ['SK_ID_CURR'])['AMT_APPLICATION'].sum().reset_index().rename(index = str, columns = {'AMT_APPLICATION' : 'AMT_APPLIED_FOR'})\npv = pv.merge(grp, on = ['SK_ID_CURR'], how = 'left')\ndel grp\ngc.collect()\n\npv['DIFF'] = (pv['AMT_CREDIT_RECEIVED'] - pv['AMT_APPLIED_FOR'])\ndel pv['AMT_CREDIT_RECEIVED']\ndel pv['AMT_APPLIED_FOR']\ngc.collect()\n\ngrp = pv.groupby(by = ['SK_ID_CURR'])['DIFF'].mean().reset_index().rename(index = str, columns ={ 'DIFF' : 'DIFF_CREDIT_APPLIED'})\npv = pv.merge(grp, on = ['SK_ID_CURR'], how = 'left')\ndel grp \ngc.collect()\n    \ndel pv['DIFF']\ngc.collect()   ",
      "execution_count": null,
      "outputs": []
    },
    {
      "metadata": {
        "trusted": true,
        "_uuid": "3db8453247c7091de4f168842edb58ed88cb37ef",
        "collapsed": true
      },
      "cell_type": "code",
      "source": "#Ratio of amount application and amount credit(feature engg for prev application) #new\ngrp = pv.groupby(by = ['SK_ID_CURR'])['AMT_CREDIT'].sum().reset_index().rename(index = str, columns = {'AMT_CREDIT' : 'AMT_CREDIT_RECEIVED'})\npv = pv.merge(grp, on = ['SK_ID_CURR'], how = 'left')\ndel grp\ngc.collect()\n\ngrp = pv.groupby(by = ['SK_ID_CURR'])['AMT_APPLICATION'].sum().reset_index().rename(index = str, columns = {'AMT_APPLICATION' : 'AMT_APPLIED_FOR'})\npv = pv.merge(grp, on = ['SK_ID_CURR'], how = 'left')\ndel grp\ngc.collect()\n\npv['RATIO'] = (pv['AMT_APPLIED_FOR'] / pv['AMT_CREDIT_RECEIVED'])\ndel pv['AMT_CREDIT_RECEIVED']\ndel pv['AMT_APPLIED_FOR']\ngc.collect()\n\ngrp = pv.groupby(by = ['SK_ID_CURR'])['RATIO'].mean().reset_index().rename(index = str, columns ={ 'RATIO' : 'RATIO_CREDIT_APPLIED'})\npv = pv.merge(grp, on = ['SK_ID_CURR'], how = 'left')\ndel grp \ngc.collect()\n\ndel pv['RATIO']\ngc.collect()",
      "execution_count": null,
      "outputs": []
    },
    {
      "metadata": {
        "trusted": true,
        "_uuid": "353642c6cfa7a625a97cf1e7b2e1912985e03040",
        "collapsed": true
      },
      "cell_type": "code",
      "source": " #Ratio of amount credit and amount annutiy(feature engg for prev application) #new\ngrp = pv.groupby(by = ['SK_ID_CURR'])['AMT_CREDIT'].sum().reset_index().rename(index = str, columns = {'AMT_CREDIT' : 'AMT_CREDIT_RECEIVED'})\npv = pv.merge(grp, on = ['SK_ID_CURR'], how = 'left')\ndel grp\ngc.collect()\n\ngrp = pv.groupby(by = ['SK_ID_CURR'])['AMT_ANNUITY'].sum().reset_index().rename(index = str, columns = {'AMT_ANNUITY' : 'AMT_ANNUITY_RECEIVED'})\npv = pv.merge(grp, on = ['SK_ID_CURR'], how = 'left')\ndel grp\ngc.collect()\n\npv['RATIO'] = (pv['AMT_ANNUITY_RECEIVED'] / pv['AMT_CREDIT_RECEIVED'])\ndel pv['AMT_CREDIT_RECEIVED']\ndel pv['AMT_ANNUITY_RECEIVED']\ngc.collect()\n\ngrp = pv.groupby(by = ['SK_ID_CURR'])['RATIO'].mean().reset_index().rename(index = str, columns ={ 'RATIO' : 'RATIO_ANNUITY_CREDIT'})\npv = pv.merge(grp, on = ['SK_ID_CURR'], how = 'left')\ndel grp \ngc.collect()\n    \ndel pv['RATIO']\ngc.collect() ",
      "execution_count": null,
      "outputs": []
    },
    {
      "metadata": {
        "trusted": true,
        "_uuid": "c5802180d2b322308ba2bbc0314d022a5b54e3ff",
        "collapsed": true
      },
      "cell_type": "code",
      "source": "",
      "execution_count": null,
      "outputs": []
    },
    {
      "metadata": {
        "trusted": true,
        "_uuid": "9b401fd8cd2773b9c1e11d63d2a6197bd32db1d1",
        "collapsed": true
      },
      "cell_type": "code",
      "source": " #Difference of amount credit and amount annutiy(feature engg for prev application)\ngrp = pv.groupby(by = ['SK_ID_CURR'])['AMT_CREDIT'].sum().reset_index().rename(index = str, columns = {'AMT_CREDIT' : 'AMT_CREDIT_RECEIVED'})\npv = pv.merge(grp, on = ['SK_ID_CURR'], how = 'left')\ndel grp\ngc.collect()\n\ngrp = pv.groupby(by = ['SK_ID_CURR'])['AMT_ANNUITY'].sum().reset_index().rename(index = str, columns = {'AMT_ANNUITY' : 'AMT_ANNUITY_RECEIVED'})\npv = pv.merge(grp, on = ['SK_ID_CURR'], how = 'left')\ndel grp\ngc.collect()\n\npv['DIFF'] = (pv['AMT_CREDIT_RECEIVED'] - pv['AMT_ANNUITY_RECEIVED'])\ndel pv['AMT_CREDIT_RECEIVED']\ndel pv['AMT_ANNUITY_RECEIVED']\ngc.collect()\n\ngrp = pv.groupby(by = ['SK_ID_CURR'])['DIFF'].mean().reset_index().rename(index = str, columns ={ 'DIFF' : 'DIFF_CREDIT_ANNUITY'})\npv = pv.merge(grp, on = ['SK_ID_CURR'], how = 'left')\ndel grp \ngc.collect()\n    \ndel pv['DIFF']\ngc.collect() ",
      "execution_count": null,
      "outputs": []
    },
    {
      "metadata": {
        "trusted": true,
        "_uuid": "bca0c3ab1595acd452fa0330f1aa29efd49dafa2",
        "collapsed": true
      },
      "cell_type": "code",
      "source": "#Difference of instalment paid and actual instalment(for installments_payments.csv)\ngrp = ip.groupby(by = ['SK_ID_CURR'])['AMT_INSTALMENT'].sum().reset_index().rename(index = str, columns = {'AMT_INSTALMENT' : 'AMT_INSTALMENT_ACTUAL'})\nip = ip.merge(grp, on = ['SK_ID_CURR'], how = 'left')\ndel grp\ngc.collect()\n\ngrp = ip.groupby(by = ['SK_ID_CURR'])['AMT_PAYMENT'].sum().reset_index().rename(index = str, columns = {'AMT_PAYMENT' : 'AMT_PAYMENT_DONE'})\nip = ip.merge(grp, on = ['SK_ID_CURR'], how = 'left')\ndel grp\ngc.collect()\n\nip['DIFF'] = (ip['AMT_INSTALMENT_ACTUAL'] - ip['AMT_PAYMENT_DONE'])\ndel ip['AMT_INSTALMENT_ACTUAL']\ndel ip['AMT_PAYMENT_DONE']\ngc.collect()\n\ngrp = ip.groupby(by = ['SK_ID_CURR'])['DIFF'].mean().reset_index().rename(index = str, columns ={ 'DIFF' : 'DIFF_INSTALMENT_PAYMENT'})\nip = ip.merge(grp, on = ['SK_ID_CURR'], how = 'left')\ndel grp \ngc.collect()\n    \ndel ip['DIFF']\ngc.collect() ",
      "execution_count": null,
      "outputs": []
    },
    {
      "metadata": {
        "trusted": true,
        "_uuid": "55a0487d763868deb6a3496f16cb8e602844f746",
        "collapsed": true
      },
      "cell_type": "code",
      "source": "#Ratio of instalment paid and actual instalment(for installments_payments.csv) #new\ngrp = ip.groupby(by = ['SK_ID_CURR'])['AMT_INSTALMENT'].sum().reset_index().rename(index = str, columns = {'AMT_INSTALMENT' : 'AMT_INSTALMENT_ACTUAL'})\nip = ip.merge(grp, on = ['SK_ID_CURR'], how = 'left')\ndel grp\ngc.collect()\n\ngrp = ip.groupby(by = ['SK_ID_CURR'])['AMT_PAYMENT'].sum().reset_index().rename(index = str, columns = {'AMT_PAYMENT' : 'AMT_PAYMENT_DONE'})\nip = ip.merge(grp, on = ['SK_ID_CURR'], how = 'left')\ndel grp\ngc.collect()\n\nip['RATIO'] = (ip['AMT_PAYMENT_DONE'] / ip['AMT_INSTALMENT_ACTUAL'])\ndel ip['AMT_INSTALMENT_ACTUAL']\ndel ip['AMT_PAYMENT_DONE']\ngc.collect()\n\ngrp = ip.groupby(by = ['SK_ID_CURR'])['RATIO'].mean().reset_index().rename(index = str, columns ={ 'RATIO' : 'RATIO_INSTALMENT_PAYMENT'})\nip = ip.merge(grp, on = ['SK_ID_CURR'], how = 'left')\ndel grp \ngc.collect()\n    \ndel ip['RATIO']\ngc.collect() ",
      "execution_count": null,
      "outputs": []
    },
    {
      "metadata": {
        "trusted": true,
        "_uuid": "304861fcd6f0b3a6fc3ec1e75f2b2c3d27ebac0e",
        "collapsed": true
      },
      "cell_type": "code",
      "source": "",
      "execution_count": null,
      "outputs": []
    },
    {
      "metadata": {
        "trusted": true,
        "_uuid": "d043cc7e2ad67e40b848255b251f10a6a1bc9d8f",
        "collapsed": true
      },
      "cell_type": "code",
      "source": "#Difference between DAYS_INSTALMENT and DAYS_ENTRY_PAYMENT (another column with days_instalment - days_entry payment made by aguair)\nip['DAYS_INSTALMENT'] = abs(ip['DAYS_INSTALMENT'])\nip['DAYS_ENTRY_PAYMENT'] = abs(ip['DAYS_ENTRY_PAYMENT'])\ngrp = ip.groupby(by = ['SK_ID_CURR'])['DAYS_INSTALMENT'].sum().reset_index().rename(index = str, columns = {'DAYS_INSTALMENT' : 'DAYS_INSTALMENT_DATE'})\nip = ip.merge(grp, on = ['SK_ID_CURR'], how = 'left')\ndel grp\ngc.collect()\n\ngrp = ip.groupby(by = ['SK_ID_CURR'])['DAYS_ENTRY_PAYMENT'].sum().reset_index().rename(index = str, columns = {'DAYS_ENTRY_PAYMENT' : 'DAYS_PAYMENT_DONE'})\nip = ip.merge(grp, on = ['SK_ID_CURR'], how = 'left')\ndel grp\ngc.collect()\n\nip['DIFF'] = (ip['DAYS_PAYMENT_DONE'] - ip['DAYS_INSTALMENT_DATE'])\ndel ip['DAYS_INSTALMENT_DATE']\ndel ip['DAYS_PAYMENT_DONE']\ngc.collect()\n\ngrp = ip.groupby(by = ['SK_ID_CURR'])['DIFF'].mean().reset_index().rename(index = str, columns ={ 'DIFF' : 'DIFF_INSTALMENT_PAYMENT_DATE'})\nip = ip.merge(grp, on = ['SK_ID_CURR'], how = 'left')\ndel grp \ngc.collect()\n    \ndel ip['DIFF']\ngc.collect() \n",
      "execution_count": null,
      "outputs": []
    },
    {
      "metadata": {
        "trusted": true,
        "_uuid": "a68b36a0175fa7bdf94b6f4e29235e9c911b55f6",
        "collapsed": true
      },
      "cell_type": "code",
      "source": "ps.head(10)",
      "execution_count": null,
      "outputs": []
    },
    {
      "metadata": {
        "trusted": true,
        "_uuid": "91e16bd15a71cb656cb7e6e3791f348bc28e20e5",
        "collapsed": true
      },
      "cell_type": "code",
      "source": "#Ratio of unpaid and paid installments\ngrp = ps.groupby(by = ['SK_ID_CURR'])['CNT_INSTALMENT'].sum().reset_index().rename(index = str, columns = {'CNT_INSTALMENT' : 'CNT_INSTALMENT_PAID'})\nps = ps.merge(grp, on = ['SK_ID_CURR'], how = 'left')\ndel grp\ngc.collect()\n\ngrp = ps.groupby(by = ['SK_ID_CURR'])['CNT_INSTALMENT_FUTURE'].sum().reset_index().rename(index = str, columns = {'CNT_INSTALMENT_FUTURE' : 'CNT_INSTALMENT_TOPAY'})\nps = ps.merge(grp, on = ['SK_ID_CURR'], how = 'left')\ndel grp\ngc.collect()\n\nps['RATIO'] = (ps['CNT_INSTALMENT_PAID'] / ps['CNT_INSTALMENT_TOPAY'])\ndel ps['CNT_INSTALMENT_PAID']\ndel ps['CNT_INSTALMENT_TOPAY']\ngc.collect()\n\ngrp = ps.groupby(by = ['SK_ID_CURR'])['RATIO'].mean().reset_index().rename(index = str, columns ={ 'RATIO' : 'RATIO_PAY_TOPAY'})\nps = ps.merge(grp, on = ['SK_ID_CURR'], how = 'left')\ndel grp \ngc.collect()\n    \ndel ps['RATIO']\ngc.collect",
      "execution_count": null,
      "outputs": []
    },
    {
      "metadata": {
        "trusted": true,
        "_uuid": "2885132cbdaad5e6563de41bc3b365c4ec5c925b",
        "collapsed": true
      },
      "cell_type": "code",
      "source": "#Avg number of times DPD has occured\ndef f(DPD):\n    \n    # DPD is a series of values of SK_DPD for each of the groupby combination \n    # We convert it to a list to get the number of SK_DPD values NOT EQUALS ZERO\n    x = DPD.tolist()\n    c = 0\n    for i,j in enumerate(x):\n        if j != 0:\n            c += 1\n    \n    return c \n        \ngrp = ps.groupby(by = ['SK_ID_CURR', 'SK_ID_PREV']).apply(lambda x: f(x.SK_DPD)).reset_index().rename(index = str, columns = {0: 'NO_DPD'})\ngrp1 = grp.groupby(by = ['SK_ID_CURR'])['NO_DPD'].mean().reset_index().rename(index = str, columns = {'NO_DPD' : 'DPD_COUNT'})\n\nps = ps.merge(grp1, on = ['SK_ID_CURR'], how = 'left')\ndel grp1\ndel grp \ngc.collect()\n    \n#Average of days past dues per customer\ngrp = ps.groupby(by= ['SK_ID_CURR'])['SK_DPD'].mean().reset_index().rename(index = str, columns = {'SK_DPD': 'AVG_DPD'})\nps = ps.merge(grp, on = ['SK_ID_CURR'], how = 'left')\ndel grp \ngc.collect()",
      "execution_count": null,
      "outputs": []
    },
    {
      "metadata": {
        "trusted": true,
        "_uuid": "6d12444ea9171a5713aa8c3dc8c536b7191b6fd3",
        "collapsed": true
      },
      "cell_type": "code",
      "source": "#Average of days past dues with tolerance\ngrp = ps.groupby(by= ['SK_ID_CURR'])['SK_DPD_DEF'].mean().reset_index().rename(index = str, columns = {'SK_DPD_DEF': 'AVG_DPD_DEF'})\nps = ps.merge(grp, on = ['SK_ID_CURR'], how = 'left')\ndel grp \ngc.collect()",
      "execution_count": null,
      "outputs": []
    },
    {
      "metadata": {
        "trusted": true,
        "_uuid": "0fcc91a749155ec0094a6d45688e65afccd90f3c",
        "collapsed": true
      },
      "cell_type": "code",
      "source": "ps['NAME_CONTRACT_STATUS'].values",
      "execution_count": null,
      "outputs": []
    },
    {
      "metadata": {
        "trusted": true,
        "collapsed": true,
        "_uuid": "8c76561071eab2d65e009da3a3cab81fc4191e74"
      },
      "cell_type": "code",
      "source": "app_train['missing_percent'] = app_train.isnull().sum(axis=1) / 122",
      "execution_count": null,
      "outputs": []
    },
    {
      "metadata": {
        "trusted": true,
        "_uuid": "183262e22f20f73d4f9ca76abc5a360f07d69465",
        "collapsed": true
      },
      "cell_type": "code",
      "source": "app_train['missing_percent']",
      "execution_count": null,
      "outputs": []
    },
    {
      "metadata": {
        "trusted": true,
        "collapsed": true,
        "_uuid": "2ac157e3372277621a2a8988607969611afd9e85"
      },
      "cell_type": "code",
      "source": "",
      "execution_count": null,
      "outputs": []
    },
    {
      "metadata": {
        "trusted": true,
        "_uuid": "316d934ff6f88ab5b48be7b58e0d62544f8c9f0f",
        "collapsed": true
      },
      "cell_type": "code",
      "source": "def train_model(data_, test_, y_, folds_):\n\n    oof_preds = np.zeros(data_.shape[0])\n    sub_preds = np.zeros(test_.shape[0])\n    \n    feature_importance_df = pd.DataFrame()\n    \n    feats = [f for f in data_.columns if f not in ['SK_ID_CURR']]\n    \n    for n_fold, (trn_idx, val_idx) in enumerate(folds_.split(data_)):\n        trn_x, trn_y = data_[feats].iloc[trn_idx], y_.iloc[trn_idx]\n        val_x, val_y = data_[feats].iloc[val_idx], y_.iloc[val_idx]\n        \n        clf = LGBMClassifier(\n            n_estimators=10000,\n            learning_rate=0.03,\n            num_leaves=34,\n            colsample_bytree=0.9497036,\n            subsample=0.8715623,\n            max_depth=8,\n            boosting_type='goss',\n            bagging_freq=0,\n            reg_alpha=0.041545473,\n            reg_lambda=0.0735294,\n            min_split_gain=0.0222415,\n            min_child_weight=39.3259775,\n            silent=-1,\n            verbose=-1,\n        )\n        \n        clf.fit(trn_x, trn_y, \n                eval_set= [(trn_x, trn_y), (val_x, val_y)], \n                eval_metric='auc', verbose=100, early_stopping_rounds=100  \n               )\n        \n        oof_preds[val_idx] = clf.predict_proba(val_x, num_iteration=clf.best_iteration_)[:, 1]\n        sub_preds += clf.predict_proba(test_[feats], num_iteration=clf.best_iteration_)[:, 1] / folds_.n_splits\n        \n        fold_importance_df = pd.DataFrame()\n        fold_importance_df[\"feature\"] = feats\n        fold_importance_df[\"importance\"] = clf.feature_importances_\n        fold_importance_df[\"fold\"] = n_fold + 1\n        feature_importance_df = pd.concat([feature_importance_df, fold_importance_df], axis=0)\n        \n        print('Fold %2d AUC : %.6f' % (n_fold + 1, roc_auc_score(val_y, oof_preds[val_idx])))\n        del clf, trn_x, trn_y, val_x, val_y\n        gc.collect()\n        \n    print('Full AUC score %.6f' % roc_auc_score(y_, oof_preds)) \n    \n    test_['TARGET'] = sub_preds\n\n    return oof_preds, test_[['SK_ID_CURR', 'TARGET']], feature_importance_df  \n\n",
      "execution_count": null,
      "outputs": []
    },
    {
      "metadata": {
        "trusted": true,
        "_uuid": "61b9bb0a5e07f95e75e45cf0513defc392836bf0",
        "collapsed": true
      },
      "cell_type": "code",
      "source": "if __name__ == '__main__':\n    gc.enable()\n    # Build model inputs\n    #application_train, application_test, y = build_model_input()\n    # Create Folds\n    folds = KFold(n_splits=5, shuffle=True, random_state=546789)\n    # Train model and get oof and test predictions\n    oof_preds, test_preds, importances = train_model(application_train, application_test, target, folds)\n    # Save test predictions\n    test_preds.to_csv('first_submission.csv', index=False)",
      "execution_count": null,
      "outputs": []
    },
    {
      "metadata": {
        "trusted": true,
        "_uuid": "99007b548f946637dedecba902091dae0573f1b7",
        "collapsed": true
      },
      "cell_type": "code",
      "source": "pv.shape",
      "execution_count": null,
      "outputs": []
    },
    {
      "metadata": {
        "trusted": true,
        "_uuid": "95049e84d0d4bcbd68cae011cbed1e5604885dbd",
        "collapsed": true
      },
      "cell_type": "code",
      "source": "pv.head()",
      "execution_count": null,
      "outputs": []
    },
    {
      "metadata": {
        "trusted": true,
        "_uuid": "c05028021f17e691e9f5f0f9abf356c66d9efd67",
        "collapsed": true
      },
      "cell_type": "code",
      "source": "#Number of types of past loans in previous application per customer\ngrp = pv[['SK_ID_CURR', 'NAME_CONTRACT_TYPE']].groupby(by = ['SK_ID_CURR'])['NAME_CONTRACT_TYPE'].nunique().reset_index().rename(index=str, columns={'NAME_CONTRACT_TYPE': 'LOAN_TYPE'})\npv = pv.merge(grp, on = ['SK_ID_CURR'], how = 'left')\nprint(pv.shape)\ndel grp",
      "execution_count": null,
      "outputs": []
    },
    {
      "metadata": {
        "trusted": true,
        "_uuid": "f19954c4f56f10d872cb939174e3cb9296988fb0",
        "collapsed": true
      },
      "cell_type": "code",
      "source": "#Profit remaining after subtracting goods price from credit and annuity\ngrp = pv.groupby(by = ['SK_ID_CURR'])['AMT_CREDIT'].sum().reset_index().rename(index = str, columns = {'AMT_CREDIT' : 'AMT_CREDIT_RECEIVED'})\npv = pv.merge(grp, on = ['SK_ID_CURR'], how = 'left')\ndel grp\ngc.collect()\n\ngrp = pv.groupby(by = ['SK_ID_CURR'])['AMT_ANNUITY'].sum().reset_index().rename(index = str, columns = {'AMT_ANNUITY' : 'AMT_ANNUITY_RECEIVED'})\npv = pv.merge(grp, on = ['SK_ID_CURR'], how = 'left')\ndel grp\ngc.collect()\n\ngrp = pv.groupby(by = ['SK_ID_CURR'])['AMT_GOODS_PRICE'].sum().reset_index().rename(index = str, columns = {'AMT_GOODS_PRICE' : 'PRICE_OF_GOODS'})\npv = pv.merge(grp, on = ['SK_ID_CURR'], how = 'left')\ndel grp\ngc.collect()\n\npv['PROF'] = ((pv['AMT_CREDIT_RECEIVED'] + pv['AMT_ANNUITY_RECEIVED'])-(pv['PRICE_OF_GOODS']))/(pv['AMT_CREDIT_RECEIVED'] + pv['AMT_ANNUITY_RECEIVED'])\ndel pv['AMT_CREDIT_RECEIVED']\ndel pv['AMT_ANNUITY_RECEIVED']\ndel pv['PRICE_OF_GOODS']\ngc.collect()\n\ngrp = pv.groupby(by = ['SK_ID_CURR'])['PROF'].mean().reset_index().rename(index = str, columns ={ 'PROF' : 'DEBT_INCOME_RATIO'})\npv = pv.merge(grp, on = ['SK_ID_CURR'], how = 'left')\ndel grp \ngc.collect()\n    \ndel pv['PROF']\ngc.collect() \n",
      "execution_count": null,
      "outputs": []
    },
    {
      "metadata": {
        "trusted": true,
        "_uuid": "b9dde0830565deb3f04a8f0e0a175db13fc1ce16",
        "collapsed": true
      },
      "cell_type": "code",
      "source": "pv.head(10)",
      "execution_count": null,
      "outputs": []
    },
    {
      "metadata": {
        "trusted": true,
        "_uuid": "6148dc6ef9d417383444a4aa6dfda57ec1899e02",
        "collapsed": true
      },
      "cell_type": "code",
      "source": "#How many previous applications of our client was rejected, approved, denied etc\ngrp = pv[['SK_ID_CURR', 'NAME_CONTRACT_STATUS']].groupby(by = ['SK_ID_CURR'])['NAME_CONTRACT_STATUS'].nunique().reset_index().rename(index=str, columns={'NAME_CONTRACT_STATUS': 'STATUS?'})\npv = pv.merge(grp, on = ['SK_ID_CURR'], how = 'left')\nprint(pv.shape)\ndel grp",
      "execution_count": null,
      "outputs": []
    },
    {
      "metadata": {
        "trusted": true,
        "_uuid": "e2dc770403c6669da47113cae917fbf0978646f7",
        "collapsed": true
      },
      "cell_type": "code",
      "source": "#Lets check how many loans were taken for cash, POS, car etc\ngrp = pv[['SK_ID_CURR', 'NAME_PORTFOLIO']].groupby(by = ['SK_ID_CURR'])['NAME_PORTFOLIO'].nunique().reset_index().rename(index=str, columns={'NAME_PORTFOLIO': 'LOAN_FOR?'})\npv = pv.merge(grp, on = ['SK_ID_CURR'], how = 'left')\nprint(pv.shape)\ndel grp",
      "execution_count": null,
      "outputs": []
    },
    {
      "metadata": {
        "trusted": true,
        "_uuid": "d9feacd1464f23a9ff65c57ad0d7ad45615f9816",
        "collapsed": true
      },
      "cell_type": "code",
      "source": "pv['NFLAG_INSURED_ON_APPROVAL'] = pv['NFLAG_INSURED_ON_APPROVAL'].fillna(0)",
      "execution_count": null,
      "outputs": []
    },
    {
      "metadata": {
        "trusted": true,
        "_uuid": "cc588c1e63e3235259c27eaf0d88c1542dc1ec0b",
        "collapsed": true
      },
      "cell_type": "code",
      "source": "#Now lets check for how many of the previous applications was the applicant insured\ngrp = pv[['SK_ID_CURR', 'NFLAG_INSURED_ON_APPROVAL']].groupby(by = ['SK_ID_CURR'])['NFLAG_INSURED_ON_APPROVAL'].nunique().reset_index().rename(index=str, columns={'NFLAG_INSURED_ON_APPROVAL': 'INSURED?'})\npv = pv.merge(grp, on = ['SK_ID_CURR'], how = 'left')\nprint(pv.shape)\ndel grp",
      "execution_count": null,
      "outputs": []
    },
    {
      "metadata": {
        "trusted": true,
        "_uuid": "45f79073e79d037c7f28b17c04b2e5749267d23f",
        "collapsed": true
      },
      "cell_type": "code",
      "source": "#Let's check the interest grouping in previous applications per client\ngrp = pv[['SK_ID_CURR', 'NAME_YIELD_GROUP']].groupby(by = ['SK_ID_CURR'])['NAME_YIELD_GROUP'].nunique().reset_index().rename(index=str, columns={'NAME_YIELD_GROUP': 'INT_GROUP'})\npv = pv.merge(grp, on = ['SK_ID_CURR'], how = 'left')\nprint(pv.shape)\ndel grp",
      "execution_count": null,
      "outputs": []
    },
    {
      "metadata": {
        "trusted": true,
        "_uuid": "d3492bf113db5bb940e47c7ff56be36db2d1994d",
        "collapsed": true
      },
      "cell_type": "code",
      "source": "#counting the various diff types of pdt combinations for every applicant's previous loan\ngrp = pv[['SK_ID_CURR', 'PRODUCT_COMBINATION']].groupby(by = ['SK_ID_CURR'])['PRODUCT_COMBINATION'].nunique().reset_index().rename(index=str, columns={'PRODUCT_COMBINATION': 'COMBINATION_COUNT'})\npv = pv.merge(grp, on = ['SK_ID_CURR'], how = 'left')\nprint(pv.shape)\ndel grp",
      "execution_count": null,
      "outputs": []
    },
    {
      "metadata": {
        "trusted": true,
        "_uuid": "2fa75a4158cc378ea48559959e361ae899a2dbc1",
        "collapsed": true
      },
      "cell_type": "code",
      "source": "#counting the no. of various different channels through which the applicants acquired the previous loan\ngrp = pv[['SK_ID_CURR', 'CHANNEL_TYPE']].groupby(by = ['SK_ID_CURR'])['CHANNEL_TYPE'].nunique().reset_index().rename(index=str, columns={'CHANNEL_TYPE': 'CHANNEL?'})\npv = pv.merge(grp, on = ['SK_ID_CURR'], how = 'left')\nprint(pv.shape)\ndel grp",
      "execution_count": null,
      "outputs": []
    },
    {
      "metadata": {
        "trusted": true,
        "_uuid": "53ffbe9a40fc414cd560b0361e9c9811b1e216ff",
        "collapsed": true
      },
      "cell_type": "code",
      "source": "cc_bal.head(10)",
      "execution_count": null,
      "outputs": []
    },
    {
      "metadata": {
        "trusted": true,
        "_uuid": "625dfd675c95348d30901fbf7e45aa185bce8b0e",
        "collapsed": true
      },
      "cell_type": "code",
      "source": "print('Go to dummies')\ncc_bal = pd.concat([cc_bal, pd.get_dummies(cc_bal['NAME_CONTRACT_STATUS'], prefix='cc_bal_status_')], axis=1)\nnb_prevs = cc_bal[['SK_ID_CURR', 'SK_ID_PREV']].groupby('SK_ID_CURR').count()\ncc_bal['SK_ID_PREV'] = cc_bal['SK_ID_CURR'].map(nb_prevs['SK_ID_PREV'])\n    \nprint('Compute average')\n#wm = lambda x: np.average(x, weights=-1/cc_bal.loc[x.index, 'MONTHS_BALANCE'])\navg_cc_bal = cc_bal.groupby('SK_ID_CURR').mean()\navg_cc_bal.columns = ['cc_bal_' + f_ for f_ in avg_cc_bal.columns]",
      "execution_count": null,
      "outputs": []
    },
    {
      "metadata": {
        "trusted": true,
        "_uuid": "1dcc5021384c30c2b2ef4699a075aa3d6ff8782d",
        "collapsed": true
      },
      "cell_type": "code",
      "source": "app_train = app_train.merge(right=avg_cc_bal.reset_index(), how='left', on='SK_ID_CURR')",
      "execution_count": null,
      "outputs": []
    },
    {
      "metadata": {
        "trusted": true,
        "_uuid": "d943d094ccff81458090e7cb1aedb76138098faa",
        "collapsed": true
      },
      "cell_type": "code",
      "source": "app_train.head(10)",
      "execution_count": null,
      "outputs": []
    },
    {
      "metadata": {
        "trusted": true,
        "_uuid": "9794cad3bddec3909293c011c09482aa398b4b29",
        "collapsed": true
      },
      "cell_type": "code",
      "source": "application_train['TOTAL_NO_ENQUIRY'] = application_train['AMT_REQ_CREDIT_BUREAU_HOUR'] + application_train['AMT_REQ_CREDIT_BUREAU_DAY'] + application_train['AMT_REQ_CREDIT_BUREAU_WEEK'] + application_train['AMT_REQ_CREDIT_BUREAU_MON'] + application_train['AMT_REQ_CREDIT_BUREAU_QRT'] + application_train['AMT_REQ_CREDIT_BUREAU_YEAR']\napplication_test['TOTAL_NO_ENQUIRY'] = application_test['AMT_REQ_CREDIT_BUREAU_HOUR'] + application_test['AMT_REQ_CREDIT_BUREAU_DAY'] + application_test['AMT_REQ_CREDIT_BUREAU_WEEK'] + application_test['AMT_REQ_CREDIT_BUREAU_MON'] + application_test['AMT_REQ_CREDIT_BUREAU_QRT'] + application_test['AMT_REQ_CREDIT_BUREAU_YEAR']                                        \n#this one is new                                        ",
      "execution_count": null,
      "outputs": []
    },
    {
      "metadata": {
        "trusted": true,
        "collapsed": true,
        "_uuid": "afb606204b32f690214c222603a0703935eb034b"
      },
      "cell_type": "code",
      "source": "app_train['cc_bal_INCOME_RATIO'] = app_train['cc_bal_AMT_BALANCE'] / app_train['AMT_INCOME_TOTAL']",
      "execution_count": null,
      "outputs": []
    },
    {
      "metadata": {
        "trusted": true,
        "_uuid": "607f0bbc82265ff1af2ba28329b182903647e3f8",
        "collapsed": true
      },
      "cell_type": "code",
      "source": "app_train['cc_payment_INCOME_RATIO'] = app_train['cc_bal_AMT_DRAWINGS_ATM_CURRENT'] / app_train['AMT_INCOME_TOTAL']",
      "execution_count": null,
      "outputs": []
    },
    {
      "metadata": {
        "trusted": true,
        "_uuid": "d0a0c2449e71485492a324450ae8afc3663ad99e",
        "collapsed": true
      },
      "cell_type": "code",
      "source": "application_train['TOT_SOC_OBS_DPD'] = application_train['OBS_30_CNT_SOCIAL_CIRCLE'] + application_train['OBS_60_CNT_SOCIAL_CIRCLE']\napplication_test['TOT_SOC_OBS_DPD'] = application_test['OBS_30_CNT_SOCIAL_CIRCLE'] + application_test['OBS_60_CNT_SOCIAL_CIRCLE']",
      "execution_count": null,
      "outputs": []
    },
    {
      "metadata": {
        "trusted": true,
        "collapsed": true,
        "_uuid": "a2451760b07ce5eb75334a7623289691438c9035"
      },
      "cell_type": "code",
      "source": "application_train['TOT_SOC_DEF_DPD'] = application_train['DEF_30_CNT_SOCIAL_CIRCLE'] + application_train['DEF_60_CNT_SOCIAL_CIRCLE']\napplication_test['TOT_SOC_DEF_DPD'] = application_test['DEF_30_CNT_SOCIAL_CIRCLE'] + application_test['DEF_60_CNT_SOCIAL_CIRCLE']",
      "execution_count": null,
      "outputs": []
    },
    {
      "metadata": {
        "trusted": true,
        "_uuid": "e78b5966bd1294a38b38fd69fae239ea058ff101",
        "collapsed": true
      },
      "cell_type": "code",
      "source": "application_train['CAR_AGE_RATIO'] = application_train['OWN_CAR_AGE'] / abs(application_train['AGE'].astype(int))\napplication_test['CAR_AGE_RATIO'] = application_test['OWN_CAR_AGE'] / abs(application_test['AGE'].astype(int))",
      "execution_count": null,
      "outputs": []
    },
    {
      "metadata": {
        "trusted": true,
        "_uuid": "07987f5af4e2c2fdfbaa785a95119f9a4398d1ff",
        "collapsed": true
      },
      "cell_type": "code",
      "source": "application_train['ANNUITY_LENGTH'] = application_train['AMT_CREDIT'] / application_train['AMT_ANNUITY']\napplication_test['ANNUITY_LENGTH'] = application_test['AMT_CREDIT'] / application_test['AMT_ANNUITY']\n\napplication_train['CHILDREN_RATIO'] = application_train['CNT_CHILDREN'] / application_train['CNT_FAM_MEMBERS']\napplication_test['CHILDREN_RATIO'] = application_test['CNT_CHILDREN'] / application_test['CNT_FAM_MEMBERS']\n\napplication_train['ANNUITY_EMPLOYED_RATIO'] = application_train['ANNUITY_LENGTH'] / application_train['DAYS_EMPLOYED']\napplication_test['ANNUITY_EMPLOYED_RATIO'] = application_test['ANNUITY_LENGTH'] / application_test['DAYS_EMPLOYED']",
      "execution_count": null,
      "outputs": []
    },
    {
      "metadata": {
        "trusted": true,
        "collapsed": true,
        "_uuid": "47a26c2824f222d19528f8cb433e16c5ac7491d7"
      },
      "cell_type": "code",
      "source": "#calculating the total no of documents submitted\napplication_train['TOTAL_DOCS_SUBMITTED'] = application_train.loc[:, application_train.columns.str.contains('FLAG_DOCUMENT')].sum(axis=1)\napplication_test['TOTAL_DOCS_SUBMITTED'] = application_test.loc[:, application_test.columns.str.contains('FLAG_DOCUMENT')].sum(axis=1)",
      "execution_count": null,
      "outputs": []
    },
    {
      "metadata": {
        "trusted": true,
        "_uuid": "01424cb8772ac041c4ebb9360ff449ec28719cfd",
        "collapsed": true
      },
      "cell_type": "code",
      "source": "cc_bal.head(10)",
      "execution_count": null,
      "outputs": []
    },
    {
      "metadata": {
        "trusted": true,
        "collapsed": true,
        "_uuid": "53da310a2fbf13ebcbb9fadda3e7956123563c02"
      },
      "cell_type": "code",
      "source": "#We are going to check the balance and subtract/take ratio of the total drawing from the balance for previous credit\ngrp = cc_bal.groupby(by = ['SK_ID_CURR'])['AMT_DRAWINGS_ATM_CURRENT'].sum().reset_index().rename(index = str, columns = {'AMT_DRAWINGS_ATM_CURRENT' : 'DRAWINGS_ATM'})\ncc_bal = cc_bal.merge(grp, on = ['SK_ID_CURR'], how = 'left')\ndel grp\ngc.collect()\n\ngrp = cc_bal.groupby(by = ['SK_ID_CURR'])['AMT_DRAWINGS_CURRENT'].sum().reset_index().rename(index = str, columns = {'AMT_DRAWINGS_CURRENT' : 'DRAWINGS_CURRENT'})\ncc_bal = cc_bal.merge(grp, on = ['SK_ID_CURR'], how = 'left')\ndel grp\ngc.collect()\n\ngrp = cc_bal.groupby(by = ['SK_ID_CURR'])['AMT_DRAWINGS_OTHER_CURRENT'].sum().reset_index().rename(index = str, columns = {'AMT_DRAWINGS_OTHER_CURRENT' : 'DRAWINGS_OTHER'})\ncc_bal = cc_bal.merge(grp, on = ['SK_ID_CURR'], how = 'left')\ndel grp\ngc.collect()\n\ngrp = cc_bal.groupby(by = ['SK_ID_CURR'])['AMT_DRAWINGS_POS_CURRENT'].sum().reset_index().rename(index = str, columns = {'AMT_DRAWINGS_POS_CURRENT' : 'DRAWINGS_POS'})\ncc_bal = cc_bal.merge(grp, on = ['SK_ID_CURR'], how = 'left')\ndel grp\ngc.collect()\n\ncc_bal['total_drawings'] = cc_bal['DRAWINGS_ATM'] + cc_bal['DRAWINGS_CURRENT'] + cc_bal['DRAWINGS_OTHER'] + cc_bal['DRAWINGS_POS']\n\ngrp = cc_bal.groupby(by = ['SK_ID_CURR'])['AMT_BALANCE'].sum().reset_index().rename(index = str, columns = {'AMT_BALANCE' : 'BALANCE_LEFT'})\ncc_bal = cc_bal.merge(grp, on = ['SK_ID_CURR'], how = 'left')\ndel grp\ngc.collect()\n\ncc_bal['BALANCE_DRAWINGS_RATIO'] = cc_bal['BALANCE_LEFT'] / cc_bal['total_drawings']\ncc_bal['BALANCE_DRAWINGS_DIFF'] = cc_bal['BALANCE_LEFT'] - cc_bal['total_drawings']\n\ndel cc_bal['BALANCE_LEFT']\ndel cc_bal['total_drawings']\ndel cc_bal['DRAWINGS_POS']\ndel cc_bal['DRAWINGS_OTHER']\ndel cc_bal['DRAWINGS_ATM']\ndel cc_bal['DRAWINGS_CURRENT']",
      "execution_count": null,
      "outputs": []
    },
    {
      "metadata": {
        "trusted": true,
        "collapsed": true,
        "_uuid": "47dc8f206b0783e8daec88ae30c73fce63618b8c"
      },
      "cell_type": "code",
      "source": "#lets see the total number of times credit has been drawn\ngrp = cc_bal.groupby(by = ['SK_ID_CURR'])['CNT_DRAWINGS_ATM_CURRENT'].sum().reset_index().rename(index = str, columns = {'CNT_DRAWINGS_ATM_CURRENT' : 'ATM'})\ncc_bal = cc_bal.merge(grp, on = ['SK_ID_CURR'], how = 'left')\ndel grp\ngc.collect()\n\ngrp = cc_bal.groupby(by = ['SK_ID_CURR'])['CNT_DRAWINGS_CURRENT'].sum().reset_index().rename(index = str, columns = {'CNT_DRAWINGS_CURRENT' : 'CURRENT'})\ncc_bal = cc_bal.merge(grp, on = ['SK_ID_CURR'], how = 'left')\ndel grp\ngc.collect()\n\ngrp = cc_bal.groupby(by = ['SK_ID_CURR'])['CNT_DRAWINGS_OTHER_CURRENT'].sum().reset_index().rename(index = str, columns = {'CNT_DRAWINGS_OTHER_CURRENT' : 'OTHER'})\ncc_bal = cc_bal.merge(grp, on = ['SK_ID_CURR'], how = 'left')\ndel grp\ngc.collect()\n\ngrp = cc_bal.groupby(by = ['SK_ID_CURR'])['CNT_DRAWINGS_POS_CURRENT'].sum().reset_index().rename(index = str, columns = {'CNT_DRAWINGS_POS_CURRENT' : 'POS'})\ncc_bal = cc_bal.merge(grp, on = ['SK_ID_CURR'], how = 'left')\ndel grp\ngc.collect()\n\ncc_bal['TOTAL_DRAWINGS'] = cc_bal['ATM'] + cc_bal['CURRENT'] + cc_bal['OTHER'] + cc_bal['POS']\n\ndel cc_bal['ATM']\ndel cc_bal['CURRENT']\ndel cc_bal['OTHER']\ndel cc_bal['POS']",
      "execution_count": null,
      "outputs": []
    },
    {
      "metadata": {
        "trusted": true,
        "_uuid": "626e982bbfdfde9ab98ca53e1a4ab9146c71481e",
        "collapsed": true
      },
      "cell_type": "code",
      "source": "cc_bal.head()",
      "execution_count": null,
      "outputs": []
    },
    {
      "metadata": {
        "trusted": true,
        "_uuid": "221f43d8b5e2f0f720730c13477d4fe98d4c936f",
        "collapsed": true
      },
      "cell_type": "code",
      "source": "cc_bal['AMT_TOTAL_RECEIVABLE']",
      "execution_count": null,
      "outputs": []
    },
    {
      "metadata": {
        "trusted": true,
        "_uuid": "e7feaef69c1e06e223138a4adce154e6e89df8ec",
        "collapsed": true
      },
      "cell_type": "markdown",
      "source": "AMT_RECIVABLE and AMT_TOTAL_RECEIVABLE are basically the same columns . IF we subtract AMT_RECEIVABLE_PRINCIPAL from AMT_TOTAL_RECEIVABLE we will get the balance of bad debts for the customer in his previous credit. Might be an useful feature"
    },
    {
      "metadata": {
        "trusted": true,
        "_uuid": "6a3cf75376d4012f19af10bd4ed24043e323f45c",
        "collapsed": true
      },
      "cell_type": "code",
      "source": "cc_bal.drop('AMT_RECIVABLE', axis=1, inplace=True)",
      "execution_count": null,
      "outputs": []
    },
    {
      "metadata": {
        "trusted": true,
        "_uuid": "1bbae32ede63c5b815a63a891f2eea362c84965f",
        "collapsed": true
      },
      "cell_type": "code",
      "source": "#Finding out the receivable amount from bad debts\ngrp = cc_bal.groupby(by = ['SK_ID_CURR'])['AMT_TOTAL_RECEIVABLE'].sum().reset_index().rename(index = str, columns = {'AMT_TOTAL_RECEIVABLE' : 'R_TOTAL'})\ncc_bal = cc_bal.merge(grp, on = ['SK_ID_CURR'], how = 'left')\ndel grp\ngc.collect()\n\ngrp = cc_bal.groupby(by = ['SK_ID_CURR'])['AMT_RECEIVABLE_PRINCIPAL'].sum().reset_index().rename(index = str, columns = {'AMT_RECEIVABLE_PRINCIPAL' : 'R_PRIN'})\ncc_bal = cc_bal.merge(grp, on = ['SK_ID_CURR'], how = 'left')\ndel grp\ngc.collect()\n\ncc_bal['R_BAD_DEBTS'] = cc_bal['R_TOTAL'] - cc_bal['R_PRIN']\ndel cc_bal['R_TOTAL']\ndel cc_bal['R_PRIN']",
      "execution_count": null,
      "outputs": []
    },
    {
      "metadata": {
        "trusted": true,
        "_uuid": "25b73858bce754a9e989d329b5cb3e94675c8f97",
        "collapsed": true
      },
      "cell_type": "code",
      "source": "pv.head()",
      "execution_count": null,
      "outputs": []
    },
    {
      "metadata": {
        "trusted": true,
        "_uuid": "e25612ef15d733ee02f6b7feee3b8fba3dd1f3e5",
        "collapsed": true
      },
      "cell_type": "code",
      "source": "grp = pv.groupby(by = ['SK_ID_CURR'])['AMT_ANNUITY'].sum().reset_index().rename(index = str, columns = {'AMT_ANNUITY' : 'ANNUITY_TOTAL'})\npv = pv.merge(grp, on = ['SK_ID_CURR'], how = 'left')\ndel grp\ngc.collect()\n\ngrp = pv.groupby(by = ['SK_ID_CURR'])['AMT_CREDIT'].sum().reset_index().rename(index = str, columns = {'AMT_CREDIT' : 'CREDIT_TOTAL'})\npv = pv.merge(grp, on = ['SK_ID_CURR'], how = 'left')\ndel grp\ngc.collect()\n\ngrp = pv.groupby(by = ['SK_ID_CURR'])['AMT_GOODS_PRICE'].sum().reset_index().rename(index = str, columns = {'AMT_GOODS_PRICE' : 'GP_TOTAL'})\npv = pv.merge(grp, on = ['SK_ID_CURR'], how = 'left')\ndel grp\ngc.collect()\n\npv['CREDIT_ANNUITY_RATIO'] =pv['CREDIT_TOTAL'] / pv['ANNUITY_TOTAL']\npv['ANNUITY_CREDIT_RATIO'] = pv['ANNUITY_TOTAL'] / pv['CREDIT_TOTAL']\npv['CREDIT_GP_RATIO'] = pv['CREDIT_TOTAL'] / pv['GP_TOTAL']",
      "execution_count": null,
      "outputs": []
    },
    {
      "metadata": {
        "trusted": true,
        "_uuid": "753454f9b8ecb425adf1814f01cd0986f8bd9d54",
        "collapsed": true
      },
      "cell_type": "code",
      "source": "app_train['new'] = np.where(app_train['FLAG_OWN_CAR']=='Y', 1, 0)\napp_train['new1'] = np.where(app_train['FLAG_OWN_REALTY']=='Y', 1, 0)",
      "execution_count": null,
      "outputs": []
    },
    {
      "metadata": {
        "trusted": true,
        "_uuid": "010687a3bec9c7a3e6f4f8419c2003489428ebbf",
        "collapsed": true
      },
      "cell_type": "code",
      "source": "",
      "execution_count": null,
      "outputs": []
    },
    {
      "metadata": {
        "trusted": true,
        "_uuid": "0bb7fdfaa8693fae9542309766f500005644c6f9",
        "collapsed": true
      },
      "cell_type": "code",
      "source": "#application_test['IsSingle'] = np.where(application_test['NAME_FAMILY_STATUS'] == 'Single/not married', 1, 0)\napplication_train['RICH'] = np.where((application_train['FLAG_OWN_CAR']=='Y') & (application_train['FLAG_OWN_REALTY']=='Y'), 1, 0)",
      "execution_count": null,
      "outputs": []
    },
    {
      "metadata": {
        "trusted": true,
        "collapsed": true,
        "_uuid": "1ba227206ea52353139957bc7ceea5ca785bf7a9"
      },
      "cell_type": "code",
      "source": "application_train['>2child'] = np.where(application_train['CNT_CHILDREN'] >= 2, 1, 0)\napplication_train['>4fam'] = np.where(application_train['CNT_FAM_MEMBERS'] > 4, 1, 0)",
      "execution_count": null,
      "outputs": []
    },
    {
      "metadata": {
        "trusted": true,
        "_uuid": "54af4745606d19aa8fec1bb71cb61eb8848d873c",
        "collapsed": true
      },
      "cell_type": "code",
      "source": "application_train['>4fam']",
      "execution_count": null,
      "outputs": []
    },
    {
      "metadata": {
        "trusted": true,
        "_uuid": "2ab4e178f76e739274000215753888bb91373112",
        "collapsed": true
      },
      "cell_type": "code",
      "source": "plot_stats('RICH')",
      "execution_count": null,
      "outputs": []
    },
    {
      "metadata": {
        "trusted": true,
        "collapsed": true,
        "_uuid": "29bcd0dfc21239dc703e3c219deceb8f3b8eec5e"
      },
      "cell_type": "code",
      "source": "application_train['bekar'] = np.where((application_train['NAME_FAMILY_STATUS']=='Civil marriage') & (application_train['CNT_CHILDREN'] >= 3), 1, 0)",
      "execution_count": null,
      "outputs": []
    },
    {
      "metadata": {
        "trusted": true,
        "_uuid": "b0567789fa95266599ed1ce0a1290a8dedc83dc3",
        "collapsed": true
      },
      "cell_type": "code",
      "source": "plot_stats('bekar')",
      "execution_count": null,
      "outputs": []
    },
    {
      "metadata": {
        "trusted": true,
        "collapsed": true,
        "_uuid": "687af21abb427c39a8ffb974b3b5a5d0c85fb477"
      },
      "cell_type": "code",
      "source": "application_train['bekar1'] = np.where((application_train['NAME_FAMILY_STATUS']=='Married') & (application_train['OCCUPATION_TYPE']=='Low-skill Laborers'), 1, 0)",
      "execution_count": null,
      "outputs": []
    },
    {
      "metadata": {
        "trusted": true,
        "_uuid": "57c5992fd09805a3912ee72ca6bd50e4bdccca3b",
        "collapsed": true
      },
      "cell_type": "code",
      "source": "plot_stats('bekar1')",
      "execution_count": null,
      "outputs": []
    },
    {
      "metadata": {
        "trusted": true,
        "collapsed": true,
        "_uuid": "ca70fbd8dd40078da9ac5c952de9ac4ba4fa0d34"
      },
      "cell_type": "code",
      "source": "application_train['bekar1'] = np.where((application_train['NAME_FAMILY_STATUS']=='Married') & (application_train['NAME_INCOME_TYPE']=='Working'), 1, 0)",
      "execution_count": null,
      "outputs": []
    },
    {
      "metadata": {
        "trusted": true,
        "_uuid": "4d063603d3f51c5a2feecaff0c81dc647702aa5c",
        "collapsed": true
      },
      "cell_type": "code",
      "source": "plot_stats('bekar1')",
      "execution_count": null,
      "outputs": []
    },
    {
      "metadata": {
        "trusted": true,
        "collapsed": true,
        "_uuid": "a738a8c5aba61b289c1f3709fbdc76a4099cc801"
      },
      "cell_type": "code",
      "source": "application_train['bekar1'] = np.where((application_train['NAME_FAMILY_STATUS']=='Married') & (application_train['NAME_INCOME_TYPE']=='Unemployed'), 1, 0)\n#might be crucial",
      "execution_count": null,
      "outputs": []
    },
    {
      "metadata": {
        "trusted": true,
        "_uuid": "ab919440f75786cca7eb26be1ea452b6c5496a1f",
        "collapsed": true
      },
      "cell_type": "code",
      "source": "plot_stats('bekar1')",
      "execution_count": null,
      "outputs": []
    },
    {
      "metadata": {
        "trusted": true,
        "_uuid": "1b1c49245eaaedca5046e32c0b348f172f92bbaa",
        "collapsed": true
      },
      "cell_type": "code",
      "source": "#We will now try out combinations of marriage status and housing type\napplication_train['bekar1'] = np.where((application_train['NAME_FAMILY_STATUS']=='Married') & \n                                       (application_train['NAME_HOUSING_TYPE']=='Rented apartment'), 1, 0)",
      "execution_count": null,
      "outputs": []
    },
    {
      "metadata": {
        "trusted": true,
        "_uuid": "ccbdde006f5439f096ed727aab36a3bfc9a20b4a",
        "collapsed": true
      },
      "cell_type": "code",
      "source": "application_train['TOTAL_DOCS_SUBMITTED'] = application_train.loc[:, application_train.columns.str.contains('FLAG_DOCUMENT')].sum(axis=1)\nplot_stats(\"TOTAL_DOCS_SUBMITTED\")",
      "execution_count": null,
      "outputs": []
    },
    {
      "metadata": {
        "trusted": true,
        "collapsed": true,
        "_uuid": "ed105c56dd80bb9406f61fb9d08485a26a2d05ca"
      },
      "cell_type": "code",
      "source": "application_train['bekar1'] = np.where((application_train['NAME_FAMILY_STATUS']=='Married') & \n                                       (application_train['NAME_HOUSING_TYPE']=='House / apartment'), 1, 0)",
      "execution_count": null,
      "outputs": []
    },
    {
      "metadata": {
        "trusted": true,
        "_uuid": "f7bc40cd35739b4dbfe32592473f71faff52db8b",
        "collapsed": true
      },
      "cell_type": "code",
      "source": "plot_stats('bekar1')",
      "execution_count": null,
      "outputs": []
    },
    {
      "metadata": {
        "trusted": true,
        "collapsed": true,
        "_uuid": "3bdad45e66df437659c7e23d4680c9836cc201f5"
      },
      "cell_type": "code",
      "source": "application_train['bekar1'] = np.where((application_train['NAME_FAMILY_STATUS']=='Married') & \n                                       (application_train['NAME_HOUSING_TYPE']=='With parents'), 1, 0)",
      "execution_count": null,
      "outputs": []
    },
    {
      "metadata": {
        "trusted": true,
        "_uuid": "6fef98595ce351bee021949863969ef8407f9308",
        "collapsed": true
      },
      "cell_type": "code",
      "source": "plot_stats('bekar1')",
      "execution_count": null,
      "outputs": []
    },
    {
      "metadata": {
        "trusted": true,
        "collapsed": true,
        "_uuid": "8e3644b57b22299014a9c41ce9d0de6dec8d3fb4"
      },
      "cell_type": "code",
      "source": "application_train['bekar1'] = np.where((application_train['NAME_FAMILY_STATUS']=='Civil marriage') & \n                                       (application_train['NAME_HOUSING_TYPE']=='Rented apartment'), 1, 0)",
      "execution_count": null,
      "outputs": []
    },
    {
      "metadata": {
        "trusted": true,
        "_uuid": "72f0704753fe9e20c0a59e3d3b39017c2b3f58ca",
        "collapsed": true
      },
      "cell_type": "code",
      "source": "plot_stats('bekar1')",
      "execution_count": null,
      "outputs": []
    },
    {
      "metadata": {
        "trusted": true,
        "_uuid": "94e86961803573edb7f3bf13f2f3d3dbf922ad7e",
        "collapsed": true
      },
      "cell_type": "code",
      "source": "application_train['bekar1'] = np.where((application_train['NAME_FAMILY_STATUS']=='Civil marriage') & \n                                       (application_train['NAME_HOUSING_TYPE']=='With parents'), 1, 0)\nplot_stats('bekar1')",
      "execution_count": null,
      "outputs": []
    },
    {
      "metadata": {
        "trusted": true,
        "_uuid": "32a96647a485e04d61e81e604fbb97403bfca824",
        "collapsed": true
      },
      "cell_type": "code",
      "source": "application_train['bekar1'] = np.where((application_train['NAME_FAMILY_STATUS']=='Civil marriage') & \n                                       (application_train['NAME_HOUSING_TYPE']=='House / apartment'), 1, 0)\nplot_stats('bekar1')",
      "execution_count": null,
      "outputs": []
    },
    {
      "metadata": {
        "trusted": true,
        "_uuid": "d6af2a24f60adbfd73c23755d1fda95df112a539",
        "collapsed": true
      },
      "cell_type": "code",
      "source": "application_train['bekar1'] = np.where((application_train['NAME_INCOME_TYPE']=='Unemployed') & \n                                       (application_train['NAME_EDUCATION_TYPE']=='Secondary / secondary special'), 1, 0)\nplot_stats('bekar1') #keep",
      "execution_count": null,
      "outputs": []
    },
    {
      "metadata": {
        "trusted": true,
        "_uuid": "0a30c98d0f46a3373c8131f235595c50fc898cfe",
        "collapsed": true
      },
      "cell_type": "code",
      "source": "application_train['bekar1'] = np.where((application_train['NAME_INCOME_TYPE']=='Unemployed') & \n                                       (application_train['NAME_EDUCATION_TYPE']=='Incomplete higher'), 1, 0)\nplot_stats('bekar1') #keep",
      "execution_count": null,
      "outputs": []
    },
    {
      "metadata": {
        "trusted": true,
        "_uuid": "d9078c5e51cea5799810f17b55aa5e087d79a3be",
        "collapsed": true
      },
      "cell_type": "code",
      "source": "application_train['bekar1'] = np.where((application_train['NAME_INCOME_TYPE']=='Working') & \n                                       (application_train['NAME_EDUCATION_TYPE']=='Secondary / secondary special'), 1, 0)\nplot_stats('bekar1')",
      "execution_count": null,
      "outputs": []
    },
    {
      "metadata": {
        "trusted": true,
        "_uuid": "6ce7c04aac6345b2feef6ca22baf554c7f0a2fff",
        "collapsed": true
      },
      "cell_type": "code",
      "source": "#Taking occupation type and education into account\napplication_train['bekar1'] = np.where((application_train['OCCUPATION_TYPE']=='Low-skill Laborers') & \n                                       (application_train['NAME_EDUCATION_TYPE']=='Incomplete higher'), 1, 0)\nplot_stats('bekar1') #keep",
      "execution_count": null,
      "outputs": []
    },
    {
      "metadata": {
        "trusted": true,
        "_uuid": "df9c55dce26b8ff45a4afd861a401440a704d081",
        "collapsed": true
      },
      "cell_type": "code",
      "source": "application_train['bekar1'] = np.where((application_train['OCCUPATION_TYPE']=='Low-skill Laborers') & \n                                       (application_train['NAME_EDUCATION_TYPE']=='Higher education'), 1, 0)\nplot_stats('bekar1')",
      "execution_count": null,
      "outputs": []
    },
    {
      "metadata": {
        "trusted": true,
        "_uuid": "1076deaa81ce6c95c70803ee0a1a5b949da128f3",
        "collapsed": true
      },
      "cell_type": "code",
      "source": "application_train['bekar1'] = np.where((application_train['OCCUPATION_TYPE']=='Laborers') & \n                                       (application_train['NAME_EDUCATION_TYPE']=='Lower secondary'), 1, 0)\nplot_stats('bekar1') #keep",
      "execution_count": null,
      "outputs": []
    },
    {
      "metadata": {
        "trusted": true,
        "_uuid": "2aead2ebb6ace0b8286cb066bf6e7815ad7bac96",
        "collapsed": true
      },
      "cell_type": "code",
      "source": "application_train['bekar1'] = np.where((application_train['OCCUPATION_TYPE']=='Laborers') & \n                                       (application_train['NAME_EDUCATION_TYPE']=='Secondary / secondary special'), 1, 0)\nplot_stats('bekar1') #keep",
      "execution_count": null,
      "outputs": []
    },
    {
      "metadata": {
        "trusted": true,
        "_uuid": "8b5f96293eb59aa6c77325640a2919de471464dc",
        "collapsed": true
      },
      "cell_type": "code",
      "source": "application_train['bekar1'] = np.where((application_train['OCCUPATION_TYPE']=='Drivers') & \n                                       (application_train['NAME_EDUCATION_TYPE']=='Lower secondary'), 1, 0)\nplot_stats('bekar1')  #keep",
      "execution_count": null,
      "outputs": []
    },
    {
      "metadata": {
        "trusted": true,
        "_uuid": "1082b06c494eba2a36b1ff9886ad9e50f3f739fd",
        "collapsed": true
      },
      "cell_type": "code",
      "source": "application_train['bekar1'] = np.where((application_train['OCCUPATION_TYPE']=='Drivers') & \n                                       (application_train['NAME_EDUCATION_TYPE']=='Secondary / secondary special'), 1, 0)\nplot_stats('bekar1') #keep",
      "execution_count": null,
      "outputs": []
    },
    {
      "metadata": {
        "trusted": true,
        "_uuid": "7edb0d74aec13f638dba3cd0a375db435735e7b0",
        "collapsed": true
      },
      "cell_type": "code",
      "source": "application_train['bekar1'] = np.where((application_train['OCCUPATION_TYPE']=='Low-skill Laborers') & \n                                       (application_train['NAME_FAMILY_STATUS']=='Married'), 1, 0)\nplot_stats('bekar1') #keep",
      "execution_count": null,
      "outputs": []
    },
    {
      "metadata": {
        "trusted": true,
        "_uuid": "3adbed1e632dd5939d787c3f94f815477fccc717",
        "collapsed": true
      },
      "cell_type": "code",
      "source": "application_train['bekar1'] = np.where((application_train['OCCUPATION_TYPE']=='Low-skill Laborers') & \n                                       (application_train['NAME_FAMILY_STATUS']=='Civil marriage'), 1, 0)\nplot_stats('bekar1') #keep",
      "execution_count": null,
      "outputs": []
    },
    {
      "metadata": {
        "trusted": true,
        "_uuid": "84122583c6bd810b33bb284633bb66c9b067d101",
        "collapsed": true
      },
      "cell_type": "code",
      "source": "application_train['bekar1'] = np.where((application_train['OCCUPATION_TYPE']=='Low-skill Laborers') & \n                                       (application_train['NAME_FAMILY_STATUS']=='Single / not married'), 1, 0)\nplot_stats('bekar1') #keep",
      "execution_count": null,
      "outputs": []
    },
    {
      "metadata": {
        "trusted": true,
        "collapsed": true,
        "_uuid": "7b5a5d1569196b3e3b903a802ab8f6f665b2ba1f"
      },
      "cell_type": "code",
      "source": "",
      "execution_count": null,
      "outputs": []
    },
    {
      "metadata": {
        "trusted": true,
        "collapsed": true,
        "_uuid": "80b8ce693f3eed14681a6a67210d207359ff49e7"
      },
      "cell_type": "code",
      "source": "",
      "execution_count": null,
      "outputs": []
    },
    {
      "metadata": {
        "trusted": true,
        "collapsed": true,
        "_uuid": "a0108a61b5c269443758d478d293689d4d85b453"
      },
      "cell_type": "code",
      "source": "",
      "execution_count": null,
      "outputs": []
    },
    {
      "metadata": {
        "trusted": true,
        "collapsed": true,
        "_uuid": "bdbd8130bf9a2b9141a57002e52ebde7fb27fce6"
      },
      "cell_type": "code",
      "source": "",
      "execution_count": null,
      "outputs": []
    }
  ],
  "metadata": {
    "kernelspec": {
      "display_name": "Python 3",
      "language": "python",
      "name": "python3"
    },
    "language_info": {
      "name": "python",
      "version": "3.6.4",
      "mimetype": "text/x-python",
      "codemirror_mode": {
        "name": "ipython",
        "version": 3
      },
      "pygments_lexer": "ipython3",
      "nbconvert_exporter": "python",
      "file_extension": ".py"
    }
  },
  "nbformat": 4,
  "nbformat_minor": 1
}